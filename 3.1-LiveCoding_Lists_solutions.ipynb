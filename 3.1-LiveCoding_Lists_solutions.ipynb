{
 "cells": [
  {
   "cell_type": "markdown",
   "id": "5e8cd5c7",
   "metadata": {},
   "source": [
    "# LiveCoding: Python Lists (solutions)\n",
    "\n",
    "by [Luciano Gabbanelli](https://www.linkedin.com/in/luciano-gabbanelli-ph-d-75302218)"
   ]
  },
  {
   "cell_type": "markdown",
   "id": "912d31e4",
   "metadata": {},
   "source": [
    "<img width=80 src=\"https://media.giphy.com/media/KAq5w47R9rmTuvWOWa/giphy.gif\">\n",
    "\n",
    "<img width=150 src=\"Images/Assembler.png\">\n",
    "\n",
    "***"
   ]
  },
  {
   "cell_type": "markdown",
   "id": "9e1df974",
   "metadata": {},
   "source": [
    "## Diving into lists\n",
    "\n",
    "Lists are one of the most versatile data types that allow us to work with multiple elements at once.\n",
    "\n",
    "Lists are one of 4 built-in data types in Python used to store collections of data; the other 3 are Tuple, Set, and Dictionary, all with different qualities and usage.\n",
    "\n",
    "Lists are created using square brackets. List items are indexed, the first item has index [0], the second item has index [1], etc.\n",
    "\n",
    "\n",
    "List items are ordered<a name=\"cite_ref-1\"></a>[<sup>[1]</sup>](#cite_note-1), changeable<a name=\"cite_ref-2\"></a>[<sup>[2]</sup>](#cite_note-2), and allow duplicate values<a name=\"cite_ref-3\"></a>[<sup>[3]</sup>](#cite_note-3).\n",
    "\n",
    "\n",
    "If you add new items to a list, the new items will be placed at the end of the list.\n",
    "\n",
    "<br>\n",
    "<br>\n",
    "\n",
    "<a name=\"cite_note-1\"></a> [[1]](#cite_ref-1) This means that the items have a defined order, and that order will not change. There are some [list methods](https://www.w3schools.com/python/python_lists_methods.asp) that will change the order, but in general: the order of the items will not change.\n",
    "\n",
    "<a name=\"cite_note-2\"></a> [[2]](#cite_ref-2) Changeable, meaning that we can change, add, and remove items in a list after it has been created.\n",
    "\n",
    "<a name=\"cite_note-3\"></a> [[3]](#cite_ref-3) Since lists are indexed, lists can have items with the same value."
   ]
  },
  {
   "cell_type": "markdown",
   "id": "a2a388fd",
   "metadata": {},
   "source": [
    "Create a list with objects of different types:"
   ]
  },
  {
   "cell_type": "code",
   "execution_count": 1,
   "id": "21572cb9",
   "metadata": {},
   "outputs": [
    {
     "data": {
      "text/plain": [
       "['Lucho', 10, 'apple', True, 3.0]"
      ]
     },
     "execution_count": 1,
     "metadata": {},
     "output_type": "execute_result"
    }
   ],
   "source": [
    "# Type the code here:\n",
    "cocoliche_list = ['Lucho', 10, 'apple', True, 5.5-2.5]\n",
    "cocoliche_list"
   ]
  },
  {
   "cell_type": "markdown",
   "id": "b0fbcb55",
   "metadata": {},
   "source": [
    "Query the type of object created and the type of each element (list items are indexed and you can access them by referring to the index number):"
   ]
  },
  {
   "cell_type": "code",
   "execution_count": 2,
   "id": "5094b06a",
   "metadata": {},
   "outputs": [
    {
     "data": {
      "text/plain": [
       "list"
      ]
     },
     "execution_count": 2,
     "metadata": {},
     "output_type": "execute_result"
    }
   ],
   "source": [
    "# Type the code here:\n",
    "type(cocoliche_list)"
   ]
  },
  {
   "cell_type": "code",
   "execution_count": 3,
   "id": "5f8d0e0f",
   "metadata": {},
   "outputs": [
    {
     "name": "stdout",
     "output_type": "stream",
     "text": [
      "<class 'str'> <class 'int'> <class 'str'> <class 'bool'> <class 'float'>\n"
     ]
    }
   ],
   "source": [
    "print(type(cocoliche_list[0]), type(cocoliche_list[1]), type(cocoliche_list[2]),\n",
    "      type(cocoliche_list[3]), type(cocoliche_list[4]))"
   ]
  },
  {
   "cell_type": "markdown",
   "id": "9a640af2",
   "metadata": {},
   "source": [
    "### List Length\n",
    "\n",
    "To determine how many items a list has, use the `len()` function."
   ]
  },
  {
   "cell_type": "code",
   "execution_count": 4,
   "id": "49e54789",
   "metadata": {},
   "outputs": [
    {
     "data": {
      "text/plain": [
       "5"
      ]
     },
     "execution_count": 4,
     "metadata": {},
     "output_type": "execute_result"
    }
   ],
   "source": [
    "# Type the code here:\n",
    "len(cocoliche_list)"
   ]
  },
  {
   "cell_type": "markdown",
   "id": "52752409",
   "metadata": {},
   "source": [
    "### Access list elements by list index.\n",
    "\n",
    "As in strings, we also have negative indexing, range of indexes (remember that python does not take the upper limit), jumps (`[::]` &#10230; `[start:end:jump]`), etc."
   ]
  },
  {
   "cell_type": "code",
   "execution_count": 5,
   "id": "f43281ce",
   "metadata": {},
   "outputs": [
    {
     "data": {
      "text/plain": [
       "True"
      ]
     },
     "execution_count": 5,
     "metadata": {},
     "output_type": "execute_result"
    }
   ],
   "source": [
    "# Try some code here:\n",
    "cocoliche_list[-2]"
   ]
  },
  {
   "cell_type": "code",
   "execution_count": 6,
   "id": "5a6f1ecd",
   "metadata": {},
   "outputs": [
    {
     "data": {
      "text/plain": [
       "[10, 'apple', True]"
      ]
     },
     "execution_count": 6,
     "metadata": {},
     "output_type": "execute_result"
    }
   ],
   "source": [
    "cocoliche_list[1:4]"
   ]
  },
  {
   "cell_type": "code",
   "execution_count": 7,
   "id": "1909cc07",
   "metadata": {},
   "outputs": [
    {
     "data": {
      "text/plain": [
       "[10, 'apple', True]"
      ]
     },
     "execution_count": 7,
     "metadata": {},
     "output_type": "execute_result"
    }
   ],
   "source": [
    "cocoliche_list[-4:-1]"
   ]
  },
  {
   "cell_type": "markdown",
   "id": "807e9228",
   "metadata": {},
   "source": [
    "By leaving out the start (end) value, the range will start (end) at the first (last) item:"
   ]
  },
  {
   "cell_type": "code",
   "execution_count": 8,
   "id": "7c1d8745",
   "metadata": {},
   "outputs": [
    {
     "data": {
      "text/plain": [
       "['Lucho', 10]"
      ]
     },
     "execution_count": 8,
     "metadata": {},
     "output_type": "execute_result"
    }
   ],
   "source": [
    "# Try some code here:\n",
    "cocoliche_list[:2]"
   ]
  },
  {
   "cell_type": "code",
   "execution_count": 9,
   "id": "f7e19f53",
   "metadata": {},
   "outputs": [
    {
     "data": {
      "text/plain": [
       "['apple', True, 3.0]"
      ]
     },
     "execution_count": 9,
     "metadata": {},
     "output_type": "execute_result"
    }
   ],
   "source": [
    "cocoliche_list[2:]"
   ]
  },
  {
   "cell_type": "markdown",
   "id": "1e9e503f",
   "metadata": {},
   "source": [
    "### Check if item exists\n",
    "\n",
    "You can use the membership operators (which we have seen in *2.1-Webinar_Introduction_to_Python*) to determine if a specified item value is present in a list."
   ]
  },
  {
   "cell_type": "code",
   "execution_count": 10,
   "id": "91b6366b",
   "metadata": {},
   "outputs": [
    {
     "data": {
      "text/plain": [
       "True"
      ]
     },
     "execution_count": 10,
     "metadata": {},
     "output_type": "execute_result"
    }
   ],
   "source": [
    "# Try some code here:\n",
    "True in cocoliche_list"
   ]
  },
  {
   "cell_type": "code",
   "execution_count": 11,
   "id": "3cadb79e",
   "metadata": {},
   "outputs": [
    {
     "data": {
      "text/plain": [
       "False"
      ]
     },
     "execution_count": 11,
     "metadata": {},
     "output_type": "execute_result"
    }
   ],
   "source": [
    "False in cocoliche_list"
   ]
  },
  {
   "cell_type": "code",
   "execution_count": 12,
   "id": "06af50bb",
   "metadata": {},
   "outputs": [
    {
     "data": {
      "text/plain": [
       "False"
      ]
     },
     "execution_count": 12,
     "metadata": {},
     "output_type": "execute_result"
    }
   ],
   "source": [
    "'Luciano' in cocoliche_list"
   ]
  },
  {
   "cell_type": "markdown",
   "id": "2b844de3",
   "metadata": {},
   "source": [
    "### Change item value, or range of item values\n",
    "\n",
    "Reasign the value of one of the items (a range of items) of the list.\n",
    "\n",
    "If you insert more items than you replace, the new items will be inserted where you specified, and the remaining items will move accordingly (clearly, the length of the list will change).\n",
    "\n",
    "If you insert less items than you replace, the new items will be inserted where you specified, the exceeding items will be deleted, and the remaining items will move accordingly."
   ]
  },
  {
   "cell_type": "code",
   "execution_count": 13,
   "id": "a57b980d",
   "metadata": {},
   "outputs": [
    {
     "data": {
      "text/plain": [
       "['apple', 10, 'apple', True, 3.0]"
      ]
     },
     "execution_count": 13,
     "metadata": {},
     "output_type": "execute_result"
    }
   ],
   "source": [
    "# Try some code here:\n",
    "cocoliche_list[0] = 'apple'\n",
    "cocoliche_list"
   ]
  },
  {
   "cell_type": "code",
   "execution_count": 14,
   "id": "e7db60fb",
   "metadata": {},
   "outputs": [
    {
     "data": {
      "text/plain": [
       "['apple', 10, 'apple', 'apple', 'apple', 'apple', 3.0]"
      ]
     },
     "execution_count": 14,
     "metadata": {},
     "output_type": "execute_result"
    }
   ],
   "source": [
    "cocoliche_list[2:4] = ['apple', 'apple', 'apple', 'apple']\n",
    "cocoliche_list"
   ]
  },
  {
   "cell_type": "code",
   "execution_count": 15,
   "id": "f32b19bc",
   "metadata": {},
   "outputs": [
    {
     "data": {
      "text/plain": [
       "7"
      ]
     },
     "execution_count": 15,
     "metadata": {},
     "output_type": "execute_result"
    }
   ],
   "source": [
    "len(cocoliche_list)"
   ]
  },
  {
   "cell_type": "code",
   "execution_count": 16,
   "id": "d628a975",
   "metadata": {},
   "outputs": [
    {
     "data": {
      "text/plain": [
       "['apple', 10, 'apple', 3.0]"
      ]
     },
     "execution_count": 16,
     "metadata": {},
     "output_type": "execute_result"
    }
   ],
   "source": [
    "cocoliche_list[2:6] = ['apple']\n",
    "cocoliche_list"
   ]
  },
  {
   "cell_type": "code",
   "execution_count": 17,
   "id": "1e9e4b5a",
   "metadata": {},
   "outputs": [
    {
     "data": {
      "text/plain": [
       "4"
      ]
     },
     "execution_count": 17,
     "metadata": {},
     "output_type": "execute_result"
    }
   ],
   "source": [
    "len(cocoliche_list)"
   ]
  },
  {
   "cell_type": "markdown",
   "id": "5fc53371",
   "metadata": {},
   "source": [
    "### Incorporate new items\n",
    "\n",
    "You can `insert()` a new item without replacing any of the existing values. This will change the length of your list.\n",
    "\n",
    "> **Syntax**: `list_name.insert(value,index_position)`\n",
    "\n",
    "<br>\n",
    "\n",
    "Alternatively you can use the `append()` method to add an item to the end of the list.\n",
    "\n",
    "> **Syntax**: `list_name.append(value)`\n",
    "\n",
    "<br>\n",
    "\n",
    "Or `extend()` your current list with some elements from another list, tuple, set, dictionary, or any any iterable object.\n",
    "\n",
    "> **Syntax**: `list_name.extend(other_object)`"
   ]
  },
  {
   "cell_type": "code",
   "execution_count": 18,
   "id": "df5661fd",
   "metadata": {},
   "outputs": [
    {
     "data": {
      "text/plain": [
       "['apple', 10, True, 'apple', 3.0]"
      ]
     },
     "execution_count": 18,
     "metadata": {},
     "output_type": "execute_result"
    }
   ],
   "source": [
    "# Try some code here:\n",
    "cocoliche_list.insert(2, True)\n",
    "cocoliche_list"
   ]
  },
  {
   "cell_type": "code",
   "execution_count": 19,
   "id": "edf4f290",
   "metadata": {},
   "outputs": [
    {
     "data": {
      "text/plain": [
       "5"
      ]
     },
     "execution_count": 19,
     "metadata": {},
     "output_type": "execute_result"
    }
   ],
   "source": [
    "len(cocoliche_list)"
   ]
  },
  {
   "cell_type": "markdown",
   "id": "ea8d8f98",
   "metadata": {},
   "source": [
    "### Supress existing items\n",
    "\n",
    "The `remove()` method removes the specified item.\n",
    "\n",
    "> **Syntax**: `list_name.remove(value)`\n",
    "\n",
    "<br>\n",
    "\n",
    "The `pop()` method removes the specified index. If you do not specify the index, the `pop()` method removes the last item.\n",
    "\n",
    "> **Syntax**: `list_name.pop(index)`\n",
    "\n",
    "<br>\n",
    "\n",
    "The `del()` keyword also removes the specified index.\n",
    "\n",
    "> **Syntax**: `del(list_name[index])`\n",
    "\n",
    "<br>\n",
    "\n",
    "\n",
    "Or you can delete the full list if the name of the complete list is introduced as parameter.\n",
    "\n",
    "> **Syntax**: `del(list_name)`\n",
    "\n",
    "<br>\n",
    "\n",
    "Alternatively, you can just erase the content but conserve the list. The `clear()` method empties the list.\n",
    "\n",
    "> **Syntax**: `clear(list_name)`"
   ]
  },
  {
   "cell_type": "markdown",
   "id": "229280a5",
   "metadata": {},
   "source": [
    "- **Remove** the first appearence of an element of a list:"
   ]
  },
  {
   "cell_type": "code",
   "execution_count": 20,
   "id": "ce7f3687",
   "metadata": {},
   "outputs": [],
   "source": [
    "# Type the code here:\n",
    "cocoliche_list.remove(True)"
   ]
  },
  {
   "cell_type": "code",
   "execution_count": 21,
   "id": "cfd54c8c",
   "metadata": {},
   "outputs": [
    {
     "data": {
      "text/plain": [
       "4"
      ]
     },
     "execution_count": 21,
     "metadata": {},
     "output_type": "execute_result"
    }
   ],
   "source": [
    "len(cocoliche_list)"
   ]
  },
  {
   "cell_type": "markdown",
   "id": "3f864055",
   "metadata": {},
   "source": [
    "### The `count()` method\n",
    "\n",
    "The `count()` method returns the number of elements with a specified value.\n",
    "\n",
    "> **Syntax**: `list.count(value)`"
   ]
  },
  {
   "cell_type": "markdown",
   "id": "94e0aa92",
   "metadata": {},
   "source": [
    "- **Count** how many times the srting 'apple' appears in our list."
   ]
  },
  {
   "cell_type": "code",
   "execution_count": 22,
   "id": "750ffd28",
   "metadata": {},
   "outputs": [
    {
     "data": {
      "text/plain": [
       "2"
      ]
     },
     "execution_count": 22,
     "metadata": {},
     "output_type": "execute_result"
    }
   ],
   "source": [
    "# Type the code here:\n",
    "cocoliche_list.count('apple')"
   ]
  },
  {
   "cell_type": "code",
   "execution_count": 23,
   "id": "046dc59b",
   "metadata": {},
   "outputs": [
    {
     "data": {
      "text/plain": [
       "0"
      ]
     },
     "execution_count": 23,
     "metadata": {},
     "output_type": "execute_result"
    }
   ],
   "source": [
    "cocoliche_list.count(True)"
   ]
  },
  {
   "cell_type": "markdown",
   "id": "3982049c",
   "metadata": {},
   "source": [
    "### The `reverse()` method\n",
    "\n",
    "The `reverse()` method reverses the sorting order of the elements.\n",
    "\n",
    "> **Syntax**: `list.reverse()`\n",
    "\n",
    "**Note:** This method needs no parameters."
   ]
  },
  {
   "cell_type": "code",
   "execution_count": 24,
   "id": "1771935d",
   "metadata": {},
   "outputs": [],
   "source": [
    "# Type the code here:\n",
    "cocoliche_list.reverse()"
   ]
  },
  {
   "cell_type": "code",
   "execution_count": 25,
   "id": "02deba16",
   "metadata": {},
   "outputs": [
    {
     "data": {
      "text/plain": [
       "[3.0, 'apple', 10, 'apple']"
      ]
     },
     "execution_count": 25,
     "metadata": {},
     "output_type": "execute_result"
    }
   ],
   "source": [
    "cocoliche_list"
   ]
  },
  {
   "cell_type": "markdown",
   "id": "3dd9df33",
   "metadata": {},
   "source": [
    "### Loop through a list (again)\n",
    "\n",
    "You can loop through the list items by using a for loop:"
   ]
  },
  {
   "cell_type": "code",
   "execution_count": 26,
   "id": "59e0f649",
   "metadata": {},
   "outputs": [
    {
     "name": "stdout",
     "output_type": "stream",
     "text": [
      "3.0\n",
      "apple\n",
      "10\n",
      "apple\n"
     ]
    }
   ],
   "source": [
    "# Type the code here:\n",
    "for item in cocoliche_list:\n",
    "    print(item)"
   ]
  },
  {
   "cell_type": "markdown",
   "id": "b96729bb",
   "metadata": {},
   "source": [
    "Or you can loop through the index numbers:"
   ]
  },
  {
   "cell_type": "code",
   "execution_count": 27,
   "id": "6e6b2e27",
   "metadata": {},
   "outputs": [
    {
     "name": "stdout",
     "output_type": "stream",
     "text": [
      "The index 0 is the value 3.0\n",
      "The index 1 is the value apple\n",
      "The index 2 is the value 10\n",
      "The index 3 is the value apple\n"
     ]
    }
   ],
   "source": [
    "# Type the code here:\n",
    "for index in range(len(cocoliche_list)):\n",
    "    print(f'The index {index} is the value {cocoliche_list[index]}')"
   ]
  },
  {
   "cell_type": "markdown",
   "id": "cca06113",
   "metadata": {},
   "source": [
    "**Extra:** find the iterable created for the previous loop."
   ]
  },
  {
   "cell_type": "code",
   "execution_count": 28,
   "id": "975612a3",
   "metadata": {},
   "outputs": [
    {
     "data": {
      "text/plain": [
       "[0, 1, 2, 3]"
      ]
     },
     "execution_count": 28,
     "metadata": {},
     "output_type": "execute_result"
    }
   ],
   "source": [
    "# Type the code here:\n",
    "list(range(len(cocoliche_list)))"
   ]
  },
  {
   "cell_type": "markdown",
   "id": "eccfd98d",
   "metadata": {},
   "source": [
    "### Looping using list comprehension\n",
    "\n",
    "List comprehension offers the shortest syntax for looping through lists (you can do all with only one line of code).\n",
    "\n",
    "> **Syntax**: `newlist = [expression for item in iterable if condition == True]`"
   ]
  },
  {
   "cell_type": "markdown",
   "id": "bde3c83e",
   "metadata": {},
   "source": [
    "- **Convert** only non-string values from our list called `cocoliche_list` to strings in a new list:"
   ]
  },
  {
   "cell_type": "code",
   "execution_count": 197,
   "id": "f257811b",
   "metadata": {},
   "outputs": [
    {
     "data": {
      "text/plain": [
       "[3.0, 'apple', 10, 'apple']"
      ]
     },
     "execution_count": 197,
     "metadata": {},
     "output_type": "execute_result"
    }
   ],
   "source": [
    "cocoliche_list"
   ]
  },
  {
   "cell_type": "code",
   "execution_count": 192,
   "id": "462c65ce",
   "metadata": {},
   "outputs": [
    {
     "data": {
      "text/plain": [
       "['3.0', '10']"
      ]
     },
     "execution_count": 192,
     "metadata": {},
     "output_type": "execute_result"
    }
   ],
   "source": [
    "# Type the code here:\n",
    "strings_list = [str(x) for x in cocoliche_list if type(x)!=str]\n",
    "strings_list"
   ]
  },
  {
   "cell_type": "markdown",
   "id": "a6c1f9fd",
   "metadata": {},
   "source": [
    "- **Research** on how to add an `else` in list comprehension.\n",
    "\n",
    "\n",
    "- **Convert** all values from our list to strings in a new list and convert to uppercase only those elements that in the list called `cocoliche_list` were strings:"
   ]
  },
  {
   "cell_type": "code",
   "execution_count": 201,
   "id": "67842665",
   "metadata": {},
   "outputs": [
    {
     "data": {
      "text/plain": [
       "['3.0', 'APPLE', '10', 'APPLE']"
      ]
     },
     "execution_count": 201,
     "metadata": {},
     "output_type": "execute_result"
    }
   ],
   "source": [
    "# Type the code here:\n",
    "strings_list = [str(x) if type(x) != str else x.upper() for x in cocoliche_list]\n",
    "strings_list"
   ]
  },
  {
   "cell_type": "markdown",
   "id": "3b16e554",
   "metadata": {},
   "source": [
    "- **Create** a list of integers close to 50 (some bigger, some smaller). Create a list comprehension syntax such that if the numbers in the list are greater than or equal to 50, the program adds 1 to them; but if they are less than 50, then it substract 5."
   ]
  },
  {
   "cell_type": "code",
   "execution_count": 202,
   "id": "691561b8",
   "metadata": {
    "scrolled": false
   },
   "outputs": [
    {
     "data": {
      "text/plain": [
       "[27, 18, 50, 51, 99, 70, 48, 49, 6]"
      ]
     },
     "execution_count": 202,
     "metadata": {},
     "output_type": "execute_result"
    }
   ],
   "source": [
    "# Type the code here:\n",
    "integer_list = [22, 13, 45, 50, 98, 69, 43, 44, 1]\n",
    "[x+1 if x >= 50 else x+5 for x in integer_list]"
   ]
  },
  {
   "cell_type": "markdown",
   "id": "86e54353",
   "metadata": {},
   "source": [
    "###  Copy a list\n",
    "\n",
    "You cannot copy a list simply by typing `list2 = list1`, because: `list2` will only be a reference to `list1`, and changes made in `list1` will automatically also be made in `list2`.\n",
    "\n",
    "There are ways to make a copy, one way is to use the built-in List method `copy()`."
   ]
  },
  {
   "cell_type": "markdown",
   "id": "9f90da46",
   "metadata": {},
   "source": [
    "Make a **copy** of a list with the `copy()` method:"
   ]
  },
  {
   "cell_type": "code",
   "execution_count": 32,
   "id": "44f50729",
   "metadata": {},
   "outputs": [
    {
     "name": "stdout",
     "output_type": "stream",
     "text": [
      "['3.0', 'apple', '10', 'apple']\n"
     ]
    }
   ],
   "source": [
    "# Type the code here:\n",
    "strings_list2 = strings_list.copy()\n",
    "print(strings_list2)"
   ]
  },
  {
   "cell_type": "code",
   "execution_count": 33,
   "id": "431d7276",
   "metadata": {},
   "outputs": [
    {
     "data": {
      "text/plain": [
       "True"
      ]
     },
     "execution_count": 33,
     "metadata": {},
     "output_type": "execute_result"
    }
   ],
   "source": [
    "strings_list2 == strings_list"
   ]
  },
  {
   "cell_type": "markdown",
   "id": "0f440268",
   "metadata": {},
   "source": [
    "Make a **copy** of the list using the list constructor (built-in method) `list()`:"
   ]
  },
  {
   "cell_type": "code",
   "execution_count": 34,
   "id": "bf8ea534",
   "metadata": {},
   "outputs": [
    {
     "data": {
      "text/plain": [
       "['3.0', 'apple', '10', 'apple']"
      ]
     },
     "execution_count": 34,
     "metadata": {},
     "output_type": "execute_result"
    }
   ],
   "source": [
    "# Type the code here:\n",
    "strings_list3 = list(strings_list)\n",
    "strings_list3"
   ]
  },
  {
   "cell_type": "code",
   "execution_count": 35,
   "id": "9a48bcd7",
   "metadata": {},
   "outputs": [
    {
     "data": {
      "text/plain": [
       "True"
      ]
     },
     "execution_count": 35,
     "metadata": {},
     "output_type": "execute_result"
    }
   ],
   "source": [
    "strings_list3 == strings_list"
   ]
  },
  {
   "cell_type": "code",
   "execution_count": 36,
   "id": "db3a5c82",
   "metadata": {},
   "outputs": [
    {
     "data": {
      "text/plain": [
       "False"
      ]
     },
     "execution_count": 36,
     "metadata": {},
     "output_type": "execute_result"
    }
   ],
   "source": [
    "strings_list3 is strings_list"
   ]
  },
  {
   "cell_type": "markdown",
   "id": "1ae5fb79",
   "metadata": {},
   "source": [
    "### The `id()` function\n",
    "\n",
    "<br>\n",
    "\n",
    "**NERDY MOMENT!**\n",
    "\n",
    "<br>\n",
    "\n",
    "The `id()` function returns a unique id (unique integer - identity -) for the specified object.\n",
    "\n",
    "All objects in Python has its own unique id.\n",
    "\n",
    "The id is assigned to the object when it is created.\n",
    "\n",
    "The id is the object's memory address, and will be different for each time you run the program. (except for some object that has a constant unique id, like integers from -5 to 256)\n",
    "\n",
    "> **Syntax**: `id(object)`\n",
    ">\n",
    "> `object` can be a class, variable, list, tuple, set, etc."
   ]
  },
  {
   "cell_type": "code",
   "execution_count": 45,
   "id": "ba8e1288",
   "metadata": {},
   "outputs": [
    {
     "data": {
      "text/plain": [
       "1718078931648"
      ]
     },
     "execution_count": 45,
     "metadata": {},
     "output_type": "execute_result"
    }
   ],
   "source": [
    "# Type some code here:\n",
    "id(strings_list)"
   ]
  },
  {
   "cell_type": "code",
   "execution_count": 46,
   "id": "f28710c5",
   "metadata": {},
   "outputs": [
    {
     "data": {
      "text/plain": [
       "1718095577920"
      ]
     },
     "execution_count": 46,
     "metadata": {},
     "output_type": "execute_result"
    }
   ],
   "source": [
    "id(strings_list2)"
   ]
  },
  {
   "cell_type": "code",
   "execution_count": 47,
   "id": "312012de",
   "metadata": {},
   "outputs": [
    {
     "data": {
      "text/plain": [
       "1718078946624"
      ]
     },
     "execution_count": 47,
     "metadata": {},
     "output_type": "execute_result"
    }
   ],
   "source": [
    "id(strings_list3)"
   ]
  },
  {
   "cell_type": "markdown",
   "id": "3dae5ac0",
   "metadata": {},
   "source": [
    "### Arithmetic operators for list\n",
    "\n",
    "- Using the following list, try some arithmetic operators on it."
   ]
  },
  {
   "cell_type": "code",
   "execution_count": 49,
   "id": "7060b493",
   "metadata": {},
   "outputs": [],
   "source": [
    "languages = ['Spanish', 'C++', 'math', 'JavaScript']"
   ]
  },
  {
   "cell_type": "code",
   "execution_count": 50,
   "id": "9b714f40",
   "metadata": {},
   "outputs": [
    {
     "data": {
      "text/plain": [
       "['Spanish',\n",
       " 'C++',\n",
       " 'math',\n",
       " 'JavaScript',\n",
       " 'Spanish',\n",
       " 'C++',\n",
       " 'math',\n",
       " 'JavaScript',\n",
       " 'Spanish',\n",
       " 'C++',\n",
       " 'math',\n",
       " 'JavaScript']"
      ]
     },
     "execution_count": 50,
     "metadata": {},
     "output_type": "execute_result"
    }
   ],
   "source": [
    "# Type some code here:\n",
    "languages * 3"
   ]
  },
  {
   "cell_type": "code",
   "execution_count": 55,
   "id": "23ac418f",
   "metadata": {},
   "outputs": [
    {
     "data": {
      "text/plain": [
       "['3.0', 'apple', '10', 'apple', 'Spanish', 'C++', 'math', 'JavaScript']"
      ]
     },
     "execution_count": 55,
     "metadata": {},
     "output_type": "execute_result"
    }
   ],
   "source": [
    "# addition of 2 lists\n",
    "strings_list + languages"
   ]
  },
  {
   "cell_type": "code",
   "execution_count": 52,
   "id": "15f1f12e",
   "metadata": {},
   "outputs": [
    {
     "data": {
      "text/plain": [
       "4"
      ]
     },
     "execution_count": 52,
     "metadata": {},
     "output_type": "execute_result"
    }
   ],
   "source": [
    "len(languages)"
   ]
  },
  {
   "cell_type": "markdown",
   "id": "4ccbad00",
   "metadata": {},
   "source": [
    "### Other ways to join two lists\n",
    "\n",
    "Looping a list into another, item by item"
   ]
  },
  {
   "cell_type": "code",
   "execution_count": 53,
   "id": "851651e8",
   "metadata": {},
   "outputs": [
    {
     "data": {
      "text/plain": [
       "['Spanish', 'C++', 'math', 'JavaScript']"
      ]
     },
     "execution_count": 53,
     "metadata": {},
     "output_type": "execute_result"
    }
   ],
   "source": [
    "# Type some code here:\n",
    "languages"
   ]
  },
  {
   "cell_type": "code",
   "execution_count": 54,
   "id": "6b201bb5",
   "metadata": {},
   "outputs": [
    {
     "data": {
      "text/plain": [
       "['3.0', 'apple', '10', 'apple']"
      ]
     },
     "execution_count": 54,
     "metadata": {},
     "output_type": "execute_result"
    }
   ],
   "source": [
    "strings_list"
   ]
  },
  {
   "cell_type": "code",
   "execution_count": 56,
   "id": "15b17cec",
   "metadata": {},
   "outputs": [
    {
     "name": "stdout",
     "output_type": "stream",
     "text": [
      "['3.0', 'apple', '10', 'apple', 'Spanish', 'C++', 'math', 'JavaScript']\n"
     ]
    }
   ],
   "source": [
    "for x in languages:\n",
    "    strings_list.append(x)\n",
    "\n",
    "print(strings_list)"
   ]
  },
  {
   "cell_type": "markdown",
   "id": "dfeb7c9c",
   "metadata": {},
   "source": [
    "Or with the `extend()` method."
   ]
  },
  {
   "cell_type": "code",
   "execution_count": 57,
   "id": "12cecbbf",
   "metadata": {},
   "outputs": [
    {
     "data": {
      "text/plain": [
       "['3.0',\n",
       " 'apple',\n",
       " '10',\n",
       " 'apple',\n",
       " 'Spanish',\n",
       " 'C++',\n",
       " 'math',\n",
       " 'JavaScript',\n",
       " 'Spanish',\n",
       " 'C++',\n",
       " 'math',\n",
       " 'JavaScript']"
      ]
     },
     "execution_count": 57,
     "metadata": {},
     "output_type": "execute_result"
    }
   ],
   "source": [
    "# Type the code here:\n",
    "strings_list.extend(languages)\n",
    "strings_list"
   ]
  },
  {
   "cell_type": "markdown",
   "id": "e3ff6216",
   "metadata": {},
   "source": [
    "## Lists, we are not done yet"
   ]
  },
  {
   "cell_type": "markdown",
   "id": "32dd940b",
   "metadata": {},
   "source": [
    "### The `list()` constructor\n",
    "\n",
    "It is also possible to use the list() constructor for creating a new list.\n",
    "\n",
    "- Create a list of ages of length 8 representing 8 people:"
   ]
  },
  {
   "cell_type": "code",
   "execution_count": 74,
   "id": "90c6a12a",
   "metadata": {},
   "outputs": [
    {
     "data": {
      "text/plain": [
       "[52, 13, 27, 13, 91, 67, 51, 13]"
      ]
     },
     "execution_count": 74,
     "metadata": {},
     "output_type": "execute_result"
    }
   ],
   "source": [
    "# Type the code here:\n",
    "ages = list((52, 13, 27, 13, 91, 67, 51, 13))\n",
    "ages"
   ]
  },
  {
   "cell_type": "code",
   "execution_count": 75,
   "id": "0f741263",
   "metadata": {},
   "outputs": [
    {
     "data": {
      "text/plain": [
       "list"
      ]
     },
     "execution_count": 75,
     "metadata": {},
     "output_type": "execute_result"
    }
   ],
   "source": [
    "type(ages)"
   ]
  },
  {
   "cell_type": "markdown",
   "id": "636f24fa",
   "metadata": {},
   "source": [
    "### The `min()` function\n",
    "\n",
    "The `min()` function returns the item with the lowest value.\n",
    "\n",
    "If the values are strings, an alphabetically comparison is done."
   ]
  },
  {
   "cell_type": "markdown",
   "id": "f2aa63b7",
   "metadata": {},
   "source": [
    "- Find the niminun of the list:"
   ]
  },
  {
   "cell_type": "code",
   "execution_count": 76,
   "id": "84a3f61b",
   "metadata": {},
   "outputs": [
    {
     "data": {
      "text/plain": [
       "13"
      ]
     },
     "execution_count": 76,
     "metadata": {},
     "output_type": "execute_result"
    }
   ],
   "source": [
    "# Type the code here:\n",
    "min(ages)"
   ]
  },
  {
   "cell_type": "markdown",
   "id": "080e61dc",
   "metadata": {},
   "source": [
    "### The `max()` function\n",
    "\n",
    "The `max()` function returns the item with the highest value.\n",
    "\n",
    "If the values are strings, an alphabetically comparison is done."
   ]
  },
  {
   "cell_type": "markdown",
   "id": "31dc3d6a",
   "metadata": {},
   "source": [
    "- and the maximum:"
   ]
  },
  {
   "cell_type": "code",
   "execution_count": 77,
   "id": "151be8f2",
   "metadata": {},
   "outputs": [
    {
     "data": {
      "text/plain": [
       "91"
      ]
     },
     "execution_count": 77,
     "metadata": {},
     "output_type": "execute_result"
    }
   ],
   "source": [
    "# Type the code here:\n",
    "max(ages)"
   ]
  },
  {
   "cell_type": "markdown",
   "id": "3ee34925",
   "metadata": {},
   "source": [
    "- Count how many times the number 13 appears:"
   ]
  },
  {
   "cell_type": "code",
   "execution_count": 78,
   "id": "47d20c5e",
   "metadata": {},
   "outputs": [
    {
     "data": {
      "text/plain": [
       "3"
      ]
     },
     "execution_count": 78,
     "metadata": {},
     "output_type": "execute_result"
    }
   ],
   "source": [
    "# Type the code here:\n",
    "ages.count(13)"
   ]
  },
  {
   "cell_type": "markdown",
   "id": "c95ad692",
   "metadata": {},
   "source": [
    "### Sort a list\n",
    "\n",
    "List bjects have a `sort()` method that will sort the list in ascending order (alphanumeric, in case of strings) by default.\n",
    "\n",
    "> **Syntax**: `list_name.sort(reverse=True|False, key=my_function)`\n",
    ">\n",
    "> `reverse`: if `True`, the sorted list is reversed; i.e. sort in descending order\n",
    ">\n",
    "> `key` - function that serves as a key for the sort comparison\n",
    "\n",
    "Here are some [uses of the key parameter](https://www.programiz.com/python-programming/methods/list/sort)."
   ]
  },
  {
   "cell_type": "markdown",
   "id": "3871a9ae",
   "metadata": {},
   "source": [
    "- Sort the list of ages:"
   ]
  },
  {
   "cell_type": "code",
   "execution_count": 79,
   "id": "63094b80",
   "metadata": {},
   "outputs": [],
   "source": [
    "# Type the code here:\n",
    "ages.sort()"
   ]
  },
  {
   "cell_type": "code",
   "execution_count": 80,
   "id": "738f7267",
   "metadata": {},
   "outputs": [
    {
     "data": {
      "text/plain": [
       "[13, 13, 13, 27, 51, 52, 67, 91]"
      ]
     },
     "execution_count": 80,
     "metadata": {},
     "output_type": "execute_result"
    }
   ],
   "source": [
    "ages"
   ]
  },
  {
   "cell_type": "markdown",
   "id": "eb16dbd3",
   "metadata": {},
   "source": [
    "- Reasign a range of items of the list with assignment operator `=`.\n",
    "\n",
    "  Be careful with the indexation of lists!"
   ]
  },
  {
   "cell_type": "code",
   "execution_count": 81,
   "id": "065f09df",
   "metadata": {},
   "outputs": [],
   "source": [
    "# Type the code here:\n",
    "ages[0:3] = [1, 7, 13, 19]"
   ]
  },
  {
   "cell_type": "code",
   "execution_count": 82,
   "id": "4519ef15",
   "metadata": {},
   "outputs": [
    {
     "data": {
      "text/plain": [
       "[1, 7, 13, 19, 27, 51, 52, 67, 91]"
      ]
     },
     "execution_count": 82,
     "metadata": {},
     "output_type": "execute_result"
    }
   ],
   "source": [
    "ages"
   ]
  },
  {
   "cell_type": "markdown",
   "id": "f839e466",
   "metadata": {},
   "source": [
    "- Add 3 new elements to the end of the current list."
   ]
  },
  {
   "cell_type": "code",
   "execution_count": 83,
   "id": "88ee1a08",
   "metadata": {},
   "outputs": [],
   "source": [
    "# Type the code here:\n",
    "ages.extend([93, 35, 51])"
   ]
  },
  {
   "cell_type": "code",
   "execution_count": 84,
   "id": "50174ddb",
   "metadata": {},
   "outputs": [
    {
     "data": {
      "text/plain": [
       "[1, 7, 13, 19, 27, 51, 52, 67, 91, 93, 35, 51]"
      ]
     },
     "execution_count": 84,
     "metadata": {},
     "output_type": "execute_result"
    }
   ],
   "source": [
    "ages"
   ]
  },
  {
   "cell_type": "markdown",
   "id": "b56f4416",
   "metadata": {},
   "source": [
    "### Find indices\n",
    "\n",
    "The `index()` method returns the index of the specified element in the list.\n",
    "\n",
    "> Syntax: `list.index(element, start, end)`\n",
    ">\n",
    "> the element to search for can be of any type: string, number, list, etc.\n",
    "\n",
    "If the element is not found, a `ValueError` exception is raised.\n",
    "\n",
    "The `index()` method only returns the first occurrence of the matching element."
   ]
  },
  {
   "cell_type": "code",
   "execution_count": 85,
   "id": "ee525ad7",
   "metadata": {},
   "outputs": [
    {
     "data": {
      "text/plain": [
       "2"
      ]
     },
     "execution_count": 85,
     "metadata": {},
     "output_type": "execute_result"
    }
   ],
   "source": [
    "# Type some code here:\n",
    "ages.index(13)"
   ]
  },
  {
   "cell_type": "code",
   "execution_count": 86,
   "id": "9ea17386",
   "metadata": {},
   "outputs": [
    {
     "ename": "ValueError",
     "evalue": "13 is not in list",
     "output_type": "error",
     "traceback": [
      "\u001b[1;31m---------------------------------------------------------------------------\u001b[0m",
      "\u001b[1;31mValueError\u001b[0m                                Traceback (most recent call last)",
      "Input \u001b[1;32mIn [86]\u001b[0m, in \u001b[0;36m<cell line: 1>\u001b[1;34m()\u001b[0m\n\u001b[1;32m----> 1\u001b[0m \u001b[43mages\u001b[49m\u001b[38;5;241;43m.\u001b[39;49m\u001b[43mindex\u001b[49m\u001b[43m(\u001b[49m\u001b[38;5;241;43m13\u001b[39;49m\u001b[43m,\u001b[49m\u001b[43m \u001b[49m\u001b[38;5;241;43m3\u001b[39;49m\u001b[43m)\u001b[49m\n",
      "\u001b[1;31mValueError\u001b[0m: 13 is not in list"
     ]
    }
   ],
   "source": [
    "ages.index(13, 3)"
   ]
  },
  {
   "cell_type": "code",
   "execution_count": 87,
   "id": "05d86e35",
   "metadata": {},
   "outputs": [
    {
     "data": {
      "text/plain": [
       "5"
      ]
     },
     "execution_count": 87,
     "metadata": {},
     "output_type": "execute_result"
    }
   ],
   "source": [
    "ages.index(51) # but not 11"
   ]
  },
  {
   "cell_type": "markdown",
   "id": "d0970f16",
   "metadata": {},
   "source": [
    "### The `enumerate()` function\n",
    "\n",
    "The `enumerate()` function takes a collection (e.g. a list, tuple, etc.) and returns it as an enumerate object, adding a counter as the key of the enumerate object.\n",
    "\n",
    "> Syntax: `enumerate(iterable, start)`\n",
    ">\n",
    "> `start` defines the start number of the `enumerate` object. Default 0.\n",
    "\n",
    "- Enumerate a list and a string:"
   ]
  },
  {
   "cell_type": "code",
   "execution_count": 91,
   "id": "6d10c905",
   "metadata": {},
   "outputs": [
    {
     "name": "stdout",
     "output_type": "stream",
     "text": [
      "Return type: <class 'enumerate'> \n",
      "Return object: <enumerate object at 0x00000190076C2A80>\n",
      "\n",
      "But we can show this object as a list:  [(0, 'eat'), (1, 'sleep'), (2, 'repeat')]\n",
      "For the string, the numeration is for each character:  [(2, 'l'), (3, 'i'), (4, 'f'), (5, 'e')]\n"
     ]
    }
   ],
   "source": [
    "# create a list and a string:\n",
    "list1 = [\"eat\", \"sleep\", \"repeat\"]\n",
    "s1 = \"life\"\n",
    "  \n",
    "# creating enumerate objects\n",
    "obj1 = enumerate(list1)\n",
    "obj2 = enumerate(s1)\n",
    "  \n",
    "print (\"Return type:\", type(obj1),'\\nReturn object:', obj1)\n",
    "print()\n",
    "print ('But we can show this object as a list: ', list(enumerate(list1)))\n",
    "  \n",
    "# changing start index to 2 from 0\n",
    "print ('For the string, the numeration is for each character: ', list(enumerate(s1, 2)))"
   ]
  },
  {
   "cell_type": "markdown",
   "id": "33a92432",
   "metadata": {},
   "source": [
    "- Try a `for` with `enumerate()`:"
   ]
  },
  {
   "cell_type": "code",
   "execution_count": 92,
   "id": "6ecdbd2b",
   "metadata": {},
   "outputs": [
    {
     "name": "stdout",
     "output_type": "stream",
     "text": [
      "0 tic\n",
      "1 tac\n",
      "2 toe\n"
     ]
    }
   ],
   "source": [
    "# Type some code here:\n",
    "for index, value in enumerate(['tic', 'tac', 'toe']):\n",
    "     print(index, value)"
   ]
  },
  {
   "cell_type": "markdown",
   "id": "d4b587b4",
   "metadata": {},
   "source": [
    "### The `zip()` function\n",
    "\n",
    "The `zip()` function takes iterables (can be zero or more), aggregates them in a tuple, and returns it.\n",
    "\n",
    "> Syntax: `zip(iterator1, iterator2, iterator3 ...)`\n",
    ">\n",
    "> iterator1, iterator2, iterator3 ... : Iterator objects  (like: list, string, dict, etc., or user-defined iterables<a name=\"cite_ref-1\"></a>[<sup>[1]</sup>](#cite_note-1)) that will be joined together.\n",
    "\n",
    "<a name=\"cite_note-1\"></a> [[1]](#cite_ref-1) Here is difficult one: [Python Iterators](https://www.programiz.com/python-programming/iterator) :O"
   ]
  },
  {
   "cell_type": "code",
   "execution_count": 101,
   "id": "a69462ae",
   "metadata": {},
   "outputs": [],
   "source": [
    "# Type some code here:\n",
    "languages = ['Java', 'Python', 'JavaScript', 'PHP', 'Kotlin']\n",
    "versions = [8, 3.9, 6, 8.1, 1.6]\n",
    "result = zip(languages, versions)"
   ]
  },
  {
   "cell_type": "code",
   "execution_count": 102,
   "id": "e38cc9f9",
   "metadata": {},
   "outputs": [
    {
     "name": "stdout",
     "output_type": "stream",
     "text": [
      "<zip object at 0x0000019007838300>\n",
      "\n",
      "[('Java', 8), ('Python', 3.9), ('JavaScript', 6), ('PHP', 8.1), ('Kotlin', 1.6)]\n"
     ]
    }
   ],
   "source": [
    "print(result)\n",
    "print()\n",
    "list_result = list(result)\n",
    "print(list_result)"
   ]
  },
  {
   "cell_type": "code",
   "execution_count": 105,
   "id": "f9f08a80",
   "metadata": {},
   "outputs": [
    {
     "data": {
      "text/plain": [
       "tuple"
      ]
     },
     "execution_count": 105,
     "metadata": {},
     "output_type": "execute_result"
    }
   ],
   "source": [
    "type(list_result[1])"
   ]
  },
  {
   "cell_type": "code",
   "execution_count": 117,
   "id": "4aa16487",
   "metadata": {},
   "outputs": [
    {
     "name": "stdout",
     "output_type": "stream",
     "text": [
      "[1, 2, 3, 4, 5]\n",
      "1 - The last version of Java is 8\n",
      "2 - The last version of Python is 3.9\n",
      "3 - The last version of JavaScript is 6\n",
      "4 - The last version of PHP is 8.1\n",
      "5 - The last version of Kotlin is 1.6\n"
     ]
    }
   ],
   "source": [
    "indices = list (range (1,6))\n",
    "print(indices)\n",
    "for i, l, v in zip(indices,languages, versions):\n",
    "    print(f'{i} - The last version of {l} is {v}')"
   ]
  },
  {
   "cell_type": "code",
   "execution_count": 118,
   "id": "8ed76d2b",
   "metadata": {},
   "outputs": [
    {
     "name": "stdout",
     "output_type": "stream",
     "text": [
      "[(1, 'Java', 8), (2, 'Python', 3.9), (3, 'JavaScript', 6), (4, 'PHP', 8.1), (5, 'Kotlin', 1.6)]\n"
     ]
    }
   ],
   "source": [
    "list_of_tuples = list(zip(indices,languages, versions))\n",
    "print(list(list_of_tuples))"
   ]
  },
  {
   "cell_type": "markdown",
   "id": "52579292",
   "metadata": {},
   "source": [
    "### Complete it for yourself\n",
    "\n",
    "When do my transformations affect the list itself and when do they not (i.e. the transformation must be asign to a variable)?\n",
    "\n",
    "Do you remember? Can you list them?\n",
    "\n",
    "* `+`, `*`, ...\n",
    "\n",
    "* `append()`, `remove()`, ...\n",
    "\n",
    "Other methods: `insert()`, `del()`, `clear()`, `pop()`, `index()`"
   ]
  },
  {
   "cell_type": "markdown",
   "id": "2f412a6a",
   "metadata": {},
   "source": [
    "## List of lists\n",
    "\n",
    "The items of a list can be of any type. Also a list!"
   ]
  },
  {
   "cell_type": "code",
   "execution_count": 120,
   "id": "44a842d5",
   "metadata": {},
   "outputs": [],
   "source": [
    "# Type some code here:\n",
    "fruits_vegetables = [['tomato', 'pear', 'strawberry'], ['broccoli', 'artichoke']]"
   ]
  },
  {
   "cell_type": "code",
   "execution_count": 4,
   "id": "0311bf20",
   "metadata": {},
   "outputs": [
    {
     "data": {
      "text/plain": [
       "2"
      ]
     },
     "execution_count": 4,
     "metadata": {},
     "output_type": "execute_result"
    }
   ],
   "source": [
    "len(fruits_vegetables)"
   ]
  },
  {
   "cell_type": "code",
   "execution_count": 5,
   "id": "7ea5a175",
   "metadata": {},
   "outputs": [
    {
     "data": {
      "text/plain": [
       "['tomato', 'pear', 'strawberry']"
      ]
     },
     "execution_count": 5,
     "metadata": {},
     "output_type": "execute_result"
    }
   ],
   "source": [
    "fruits_vegetables[0]"
   ]
  },
  {
   "cell_type": "code",
   "execution_count": 6,
   "id": "d12496e7",
   "metadata": {},
   "outputs": [
    {
     "data": {
      "text/plain": [
       "['broccoli', 'artichoke']"
      ]
     },
     "execution_count": 6,
     "metadata": {},
     "output_type": "execute_result"
    }
   ],
   "source": [
    "fruits_vegetables[1]"
   ]
  },
  {
   "cell_type": "code",
   "execution_count": 123,
   "id": "4185c974",
   "metadata": {},
   "outputs": [
    {
     "data": {
      "text/plain": [
       "'STRAWBERRY'"
      ]
     },
     "execution_count": 123,
     "metadata": {},
     "output_type": "execute_result"
    }
   ],
   "source": [
    "# concatenation of methods\n",
    "# Type some code here:\n",
    "\n",
    "fruits_vegetables[0][2].upper()"
   ]
  },
  {
   "cell_type": "code",
   "execution_count": 122,
   "id": "1c9300a6",
   "metadata": {},
   "outputs": [
    {
     "data": {
      "text/plain": [
       "'Artichoke'"
      ]
     },
     "execution_count": 122,
     "metadata": {},
     "output_type": "execute_result"
    }
   ],
   "source": [
    "fruits_vegetables[1][1].capitalize()"
   ]
  },
  {
   "cell_type": "markdown",
   "id": "0f0b984c",
   "metadata": {},
   "source": [
    "## List of whatever"
   ]
  },
  {
   "cell_type": "code",
   "execution_count": 143,
   "id": "808ec8a4",
   "metadata": {},
   "outputs": [],
   "source": [
    "# Type some code here:\n",
    "mmm = list([[1,'I can do what I want',3], {3, 3, 3, 4}, \n",
    "            (2, 'Whatever', True), {'Earth_life':True}, None])"
   ]
  },
  {
   "cell_type": "code",
   "execution_count": 140,
   "id": "11bbf936",
   "metadata": {},
   "outputs": [
    {
     "data": {
      "text/plain": [
       "[[1, 'I can do what I want', 3],\n",
       " {3, 4},\n",
       " (2, 'Whatever', True),\n",
       " {'Earth_life': True}]"
      ]
     },
     "execution_count": 140,
     "metadata": {},
     "output_type": "execute_result"
    }
   ],
   "source": [
    "mmm"
   ]
  },
  {
   "cell_type": "code",
   "execution_count": 135,
   "id": "ae56b09f",
   "metadata": {},
   "outputs": [
    {
     "data": {
      "text/plain": [
       "list"
      ]
     },
     "execution_count": 135,
     "metadata": {},
     "output_type": "execute_result"
    }
   ],
   "source": [
    "type(mmm)"
   ]
  },
  {
   "cell_type": "code",
   "execution_count": 136,
   "id": "98170d75",
   "metadata": {},
   "outputs": [
    {
     "data": {
      "text/plain": [
       "set"
      ]
     },
     "execution_count": 136,
     "metadata": {},
     "output_type": "execute_result"
    }
   ],
   "source": [
    "type(mmm[1])"
   ]
  },
  {
   "cell_type": "code",
   "execution_count": 141,
   "id": "ae9dac10",
   "metadata": {},
   "outputs": [
    {
     "data": {
      "text/plain": [
       "tuple"
      ]
     },
     "execution_count": 141,
     "metadata": {},
     "output_type": "execute_result"
    }
   ],
   "source": [
    "type(mmm[2])"
   ]
  },
  {
   "cell_type": "code",
   "execution_count": 144,
   "id": "06c5979b",
   "metadata": {},
   "outputs": [
    {
     "data": {
      "text/plain": [
       "dict"
      ]
     },
     "execution_count": 144,
     "metadata": {},
     "output_type": "execute_result"
    }
   ],
   "source": [
    "type(mmm[3])"
   ]
  },
  {
   "cell_type": "code",
   "execution_count": 145,
   "id": "21332a5f",
   "metadata": {},
   "outputs": [
    {
     "data": {
      "text/plain": [
       "NoneType"
      ]
     },
     "execution_count": 145,
     "metadata": {},
     "output_type": "execute_result"
    }
   ],
   "source": [
    "type(mmm[4])"
   ]
  },
  {
   "cell_type": "markdown",
   "id": "94cd5002",
   "metadata": {},
   "source": [
    "## The reversed() function\n",
    "\n",
    "The `reversed()` function returns a reversed iterator object.\n",
    "\n",
    "> Sintax: `reversed(sequence)`\n",
    ">\n",
    "> `sequence`: any iterable object (required)\n",
    "\n",
    "- Implement the `reversed()` function:"
   ]
  },
  {
   "cell_type": "code",
   "execution_count": 164,
   "id": "dc15df87",
   "metadata": {},
   "outputs": [
    {
     "name": "stdout",
     "output_type": "stream",
     "text": [
      "<list_reverseiterator object at 0x00000190077E3A90>\n",
      "<class 'list_reverseiterator'>\n"
     ]
    }
   ],
   "source": [
    "# Type some code here:\n",
    "alph = [\"a\", \"b\", \"c\", \"d\"]\n",
    "ralph = reversed(alph)\n",
    "print(ralph)\n",
    "print(type(ralph))"
   ]
  },
  {
   "cell_type": "code",
   "execution_count": 147,
   "id": "fbfe9309",
   "metadata": {},
   "outputs": [
    {
     "name": "stdout",
     "output_type": "stream",
     "text": [
      "d\n",
      "c\n",
      "b\n",
      "a\n"
     ]
    }
   ],
   "source": [
    "for item in ralph:\n",
    "    print(item)"
   ]
  },
  {
   "cell_type": "markdown",
   "id": "d8810382",
   "metadata": {},
   "source": [
    "## The `iter()` and `next()` functions\n",
    "\n",
    "The `iter()` function returns an iterator object. The output is similar to that obtained with the `reversed()` function, but now the iterator is not reversed.\n",
    "\n",
    "> Syntax: `iter(object, sentinel)`\n",
    ">\n",
    "> `object`: any iterable object (required).\n",
    ">\n",
    "> `sentinel`: if the object is a callable object the iteration will stop when the returned value is the same as the `sentinel`(optional).\n",
    "\n",
    "The `next()` function returns the next item in an iterator.\n",
    "You can add a default return value, to return if the iterable has reached to its end.\n",
    "\n",
    "> Syntax: `next(iterable, default)`\n",
    ">\n",
    "> `iterable`: an iterator object (not an iterable object). What is the difference?\n",
    "> \n",
    "> `default`: a default value to return if the iterable has reached to its end.\n"
   ]
  },
  {
   "cell_type": "code",
   "execution_count": 165,
   "id": "617da681",
   "metadata": {},
   "outputs": [
    {
     "data": {
      "text/plain": [
       "[[1, 'I can do what I want', 3],\n",
       " {3, 4},\n",
       " (2, 'Whatever', True),\n",
       " {'Earth_life': True},\n",
       " None]"
      ]
     },
     "execution_count": 165,
     "metadata": {},
     "output_type": "execute_result"
    }
   ],
   "source": [
    "mmm"
   ]
  },
  {
   "cell_type": "markdown",
   "id": "0784b6d3",
   "metadata": {},
   "source": [
    "- Use `iter()` and `next()`:"
   ]
  },
  {
   "cell_type": "code",
   "execution_count": 182,
   "id": "ed4b1d9c",
   "metadata": {},
   "outputs": [
    {
     "name": "stdout",
     "output_type": "stream",
     "text": [
      "<tuple_iterator object at 0x00000190078150D0> \n",
      "type : <class 'tuple_iterator'>\n",
      "2\n",
      "Whatever\n",
      "True\n",
      "I AM DONE!\n"
     ]
    }
   ],
   "source": [
    "# Type some code here:\n",
    "tuple_iter = iter(mmm[2])\n",
    "\n",
    "print(tuple_iter, '\\ntype :' , type(tuple_iter))\n",
    "\n",
    "x = next(tuple_iter, 'I AM DONE!')\n",
    "print(x)\n",
    "x = next(tuple_iter, 'I AM DONE!')\n",
    "print(x)\n",
    "x = next(tuple_iter, 'I AM DONE!')\n",
    "print(x)\n",
    "x = next(tuple_iter, 'I AM DONE!')\n",
    "print(x)"
   ]
  },
  {
   "cell_type": "code",
   "execution_count": 187,
   "id": "b9ebdd4d",
   "metadata": {},
   "outputs": [
    {
     "name": "stdout",
     "output_type": "stream",
     "text": [
      "<list_iterator object at 0x00000190078152B0> \n",
      "type : <class 'list_iterator'>\n",
      "[1, 'I can do what I want', 3]\n",
      "{3, 4}\n",
      "(2, 'Whatever', True)\n",
      "{'Earth_life': True}\n",
      "None\n",
      "I AM DONE!\n"
     ]
    }
   ],
   "source": [
    "list_iter = iter(mmm)\n",
    "\n",
    "print(list_iter, '\\ntype :' , type(list_iter))\n",
    "\n",
    "for i in range(len(mmm)+1):\n",
    "    x = next(list_iter, 'I AM DONE!')\n",
    "    print(x)"
   ]
  },
  {
   "cell_type": "markdown",
   "id": "9484dfd8",
   "metadata": {},
   "source": [
    "## Identity operators\n",
    "\n",
    "<br>\n",
    "\n",
    "**SUPER MEGA NERDY MOMENT!**\n",
    "\n",
    "<br>\n",
    "\n",
    "\n",
    "Identity operators compare the memory location of two objects; not if they are equal (not `==`), but if they are actually the same object.\n",
    "\n",
    "| Identity  Operators | Description  |\n",
    "| :---: | :---: |\n",
    "| `is` | Returns true if both variables are the same object |\n",
    "| `is not` | Returns true if both variables are not the same object |"
   ]
  },
  {
   "cell_type": "code",
   "execution_count": null,
   "id": "ae6cbc34",
   "metadata": {},
   "outputs": [],
   "source": [
    "list_1 = [1,2,3]"
   ]
  },
  {
   "cell_type": "code",
   "execution_count": null,
   "id": "a4a31f94",
   "metadata": {},
   "outputs": [],
   "source": [
    "list_2 = [1,2,3]"
   ]
  },
  {
   "cell_type": "code",
   "execution_count": null,
   "id": "38bdfa82",
   "metadata": {},
   "outputs": [],
   "source": [
    "list_1 == list_2"
   ]
  },
  {
   "cell_type": "code",
   "execution_count": null,
   "id": "8068981f",
   "metadata": {},
   "outputs": [],
   "source": [
    "list_1 is list_2"
   ]
  },
  {
   "cell_type": "markdown",
   "id": "2de8948a",
   "metadata": {},
   "source": [
    "The last statement is **False** because the memory address is not the same!\n",
    "\n",
    "**They are not the same object!!**\n",
    "\n",
    "<img width=\"250\" src=\"Images/id2.png\">"
   ]
  },
  {
   "cell_type": "code",
   "execution_count": null,
   "id": "20c41f69",
   "metadata": {},
   "outputs": [],
   "source": [
    "list_3 = list_1"
   ]
  },
  {
   "cell_type": "code",
   "execution_count": null,
   "id": "c485ab72",
   "metadata": {},
   "outputs": [],
   "source": [
    "list_3.append(4)"
   ]
  },
  {
   "cell_type": "code",
   "execution_count": null,
   "id": "fe72b990",
   "metadata": {},
   "outputs": [],
   "source": [
    "list_3"
   ]
  },
  {
   "cell_type": "code",
   "execution_count": null,
   "id": "deb35506",
   "metadata": {},
   "outputs": [],
   "source": [
    "list_1 is list_3"
   ]
  },
  {
   "cell_type": "markdown",
   "id": "6b9cc5c8",
   "metadata": {},
   "source": [
    "The last statement is **True** because the memory address is actally the same!\n",
    "\n",
    "**They are the same object!!**\n",
    "\n",
    "<img width=\"300\" src=\"Images/id1.png\">"
   ]
  },
  {
   "cell_type": "code",
   "execution_count": null,
   "id": "8a1862e4",
   "metadata": {},
   "outputs": [],
   "source": [
    "list_1"
   ]
  },
  {
   "cell_type": "markdown",
   "id": "4b6abf1c",
   "metadata": {},
   "source": [
    "Since they are the same object, when I add the 7 to `list_3`, it automatically gets added to `list_1` as well."
   ]
  },
  {
   "cell_type": "code",
   "execution_count": null,
   "id": "eb9506c2",
   "metadata": {},
   "outputs": [],
   "source": [
    "id(list_1)"
   ]
  },
  {
   "cell_type": "code",
   "execution_count": null,
   "id": "15499fc5",
   "metadata": {},
   "outputs": [],
   "source": [
    "id(list_3)"
   ]
  },
  {
   "cell_type": "code",
   "execution_count": null,
   "id": "d42f2c38",
   "metadata": {},
   "outputs": [],
   "source": [
    "id(list_2)"
   ]
  },
  {
   "cell_type": "markdown",
   "id": "245e17c2",
   "metadata": {},
   "source": [
    "<img width=300 src=\"https://media.giphy.com/media/lKXEBR8m1jWso/giphy.gif\">"
   ]
  }
 ],
 "metadata": {
  "kernelspec": {
   "display_name": "Python 3 (ipykernel)",
   "language": "python",
   "name": "python3"
  },
  "language_info": {
   "codemirror_mode": {
    "name": "ipython",
    "version": 3
   },
   "file_extension": ".py",
   "mimetype": "text/x-python",
   "name": "python",
   "nbconvert_exporter": "python",
   "pygments_lexer": "ipython3",
   "version": "3.9.12"
  },
  "toc": {
   "base_numbering": 1,
   "nav_menu": {},
   "number_sections": true,
   "sideBar": true,
   "skip_h1_title": true,
   "title_cell": "Table of Contents",
   "title_sidebar": "Contents",
   "toc_cell": false,
   "toc_position": {
    "height": "749px",
    "left": "219px",
    "top": "218.125px",
    "width": "259px"
   },
   "toc_section_display": true,
   "toc_window_display": true
  }
 },
 "nbformat": 4,
 "nbformat_minor": 5
}
