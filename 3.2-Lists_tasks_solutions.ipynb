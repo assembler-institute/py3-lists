{
 "cells": [
  {
   "cell_type": "markdown",
   "id": "413f4c2a",
   "metadata": {},
   "source": [
    "# Lists Task Sheet (solutions)"
   ]
  },
  {
   "cell_type": "markdown",
   "id": "672681e7",
   "metadata": {},
   "source": [
    "<img width=80 src=\"https://media.giphy.com/media/KAq5w47R9rmTuvWOWa/giphy.gif\">\n",
    "\n",
    "<img width=150 src=\"Images/Assembler.png\">"
   ]
  },
  {
   "cell_type": "markdown",
   "id": "1eeef4db",
   "metadata": {},
   "source": [
    "# Important:\n",
    "\n",
    "- Comment your code explaining what each part does when you consider it.\n",
    "- We are asking about two types of problems. The first type are solved with code cells, and the second with markdown type cells (where the solution must be thought without executing code cells). This will be indicated in each problem.\n",
    "- Always respect the format of the solution and the instructions!"
   ]
  },
  {
   "cell_type": "markdown",
   "id": "9e90dfa2",
   "metadata": {},
   "source": [
    "# Recommendations:\n",
    "\n",
    "- There are as many ways to solve a problem as there are people in the world. Find yours!\n",
    "- Create as many variables as you want. They cost nothing and are worth it for the sake of clarity.\n",
    "- You can add cells if needed. \n",
    "- Remember that there are two types of cells: code and markdown. Use both. Explanations never hurt.\n",
    "- There are several ways to approach the same problem. Try not to repeat your way of thinking.\n",
    "- If different syntaxes lead to the same result, explore them.\n",
    "- Use internet in a smart way. Don't look at how to solve the problem in its entirety; it is better to learn methods that lead your logical reasoning to the solution.\n",
    "- Once you have a plan to address the problem, try breaking your code into manageable chunks.\n",
    "- Use `print()` and `type()` functions in the middle of your code to understand what your code is actually doing."
   ]
  },
  {
   "cell_type": "markdown",
   "id": "8e40902a",
   "metadata": {},
   "source": [
    "***"
   ]
  },
  {
   "cell_type": "markdown",
   "id": "1076b8c9",
   "metadata": {},
   "source": [
    "## List manipulation\n",
    "\n",
    "Suppose we have the following list:"
   ]
  },
  {
   "cell_type": "code",
   "execution_count": 14,
   "id": "6aff8d31",
   "metadata": {},
   "outputs": [],
   "source": [
    "list_of_things = [\"SGE\",3.0,[\"A\",\"B\"],10,\"END\", False]"
   ]
  },
  {
   "cell_type": "markdown",
   "id": "918c1094",
   "metadata": {},
   "source": [
    "Could you predict what the following commands return or produce without running the code?\n",
    "\n",
    "a. `print(type(list_of_things[2][1]))`\n",
    "\n",
    "b. `print(list_of_things[0:4])`\n",
    "\n",
    "c. `list_of_things[2][1]=\"z\"`\n",
    "\n",
    "c. `print(list_of_things[2][2])`\n",
    "\n",
    "d. `print(type(list_of_things[5]))`\n",
    "\n",
    "e. `list_of_things[5] == False`\n",
    "\n",
    "f. `print(list_of_things[1::2])`\n",
    "\n",
    "g. `list_of_things[4] == \"BEGINNING\"`\n",
    "\n",
    "h. `list_of_things.extend(['Monday', 'Tuesday'])`\n",
    "\n",
    "i. `list_of_things.append(['Wednesday', 'Thursday'])`\n",
    "\n",
    "j. `print(list_of_things[-1][0])`\n",
    "\n",
    "k. `list_of_things[:5:1]`"
   ]
  },
  {
   "cell_type": "markdown",
   "id": "775e74e6",
   "metadata": {},
   "source": [
    "*Write the solution in this markdown cell:*\n",
    "\n",
    "a. \n",
    "\n",
    "b. \n",
    "\n",
    "c.\n",
    "\n",
    "d.\n",
    "\n",
    "."
   ]
  },
  {
   "cell_type": "code",
   "execution_count": 15,
   "id": "daecfc86",
   "metadata": {},
   "outputs": [
    {
     "name": "stdout",
     "output_type": "stream",
     "text": [
      "<class 'str'>\n"
     ]
    }
   ],
   "source": [
    "print(type(list_of_things[2][1]))"
   ]
  },
  {
   "cell_type": "code",
   "execution_count": 16,
   "id": "6fdd69cb",
   "metadata": {},
   "outputs": [
    {
     "name": "stdout",
     "output_type": "stream",
     "text": [
      "['SGE', 3.0, ['A', 'B'], 10]\n"
     ]
    }
   ],
   "source": [
    "print(list_of_things[0:4])"
   ]
  },
  {
   "cell_type": "code",
   "execution_count": 17,
   "id": "dec6c805",
   "metadata": {},
   "outputs": [
    {
     "name": "stdout",
     "output_type": "stream",
     "text": [
      "['SGE', 3.0, ['A', 'z'], 10, 'END', False]\n"
     ]
    }
   ],
   "source": [
    "list_of_things[2][1] = \"z\"\n",
    "print(list_of_things)"
   ]
  },
  {
   "cell_type": "code",
   "execution_count": 18,
   "id": "6cc68ce6",
   "metadata": {},
   "outputs": [
    {
     "name": "stdout",
     "output_type": "stream",
     "text": [
      "<class 'bool'>\n"
     ]
    }
   ],
   "source": [
    "print(type(list_of_things[5]))"
   ]
  },
  {
   "cell_type": "code",
   "execution_count": 19,
   "id": "95a30d7d",
   "metadata": {},
   "outputs": [
    {
     "data": {
      "text/plain": [
       "True"
      ]
     },
     "execution_count": 19,
     "metadata": {},
     "output_type": "execute_result"
    }
   ],
   "source": [
    "list_of_things[5] == False"
   ]
  },
  {
   "cell_type": "code",
   "execution_count": 20,
   "id": "32c4925a",
   "metadata": {},
   "outputs": [
    {
     "name": "stdout",
     "output_type": "stream",
     "text": [
      "[3.0, 10, False]\n"
     ]
    }
   ],
   "source": [
    "print(list_of_things[1::2])"
   ]
  },
  {
   "cell_type": "code",
   "execution_count": 21,
   "id": "0382d6ff",
   "metadata": {},
   "outputs": [
    {
     "data": {
      "text/plain": [
       "['SGE', 3.0, ['A', 'z'], 10, 'BEGINNING', False]"
      ]
     },
     "execution_count": 21,
     "metadata": {},
     "output_type": "execute_result"
    }
   ],
   "source": [
    "list_of_things[4] = \"BEGINNING\"\n",
    "list_of_things"
   ]
  },
  {
   "cell_type": "code",
   "execution_count": 22,
   "id": "9d1eb0a7",
   "metadata": {},
   "outputs": [],
   "source": [
    "list_of_things.extend(['Monday', 'Tuesday'])\n",
    "list_of_things"
   ]
  },
  {
   "cell_type": "code",
   "execution_count": 23,
   "id": "38f8b27b",
   "metadata": {},
   "outputs": [],
   "source": [
    "list_of_things.append(['Wednesday', 'Thursday'])\n",
    "list_of_things"
   ]
  },
  {
   "cell_type": "code",
   "execution_count": 24,
   "id": "6c7d2a4e",
   "metadata": {},
   "outputs": [
    {
     "name": "stdout",
     "output_type": "stream",
     "text": [
      "Wednesday\n"
     ]
    }
   ],
   "source": [
    "print(list_of_things[-1][0])"
   ]
  },
  {
   "cell_type": "code",
   "execution_count": 25,
   "id": "bcdae36b",
   "metadata": {},
   "outputs": [
    {
     "data": {
      "text/plain": [
       "['SGE',\n",
       " 3.0,\n",
       " ['A', 'z'],\n",
       " 10,\n",
       " 'BEGINNING',\n",
       " False,\n",
       " 'Monday',\n",
       " 'Tuesday',\n",
       " ['Wednesday', 'Thursday']]"
      ]
     },
     "execution_count": 25,
     "metadata": {},
     "output_type": "execute_result"
    }
   ],
   "source": [
    "list_of_things"
   ]
  },
  {
   "cell_type": "code",
   "execution_count": 26,
   "id": "edfed35d",
   "metadata": {},
   "outputs": [
    {
     "data": {
      "text/plain": [
       "['SGE', 3.0, ['A', 'z'], 10, 'BEGINNING']"
      ]
     },
     "execution_count": 26,
     "metadata": {},
     "output_type": "execute_result"
    }
   ],
   "source": [
    "list_of_things[:5:1]"
   ]
  },
  {
   "cell_type": "markdown",
   "id": "cebb1b12",
   "metadata": {},
   "source": [
    "## Transform a srting\n",
    "\n",
    "Given the string `'a/ b/ c/ d/ e/ f/ g/ h/ i '` in the following cel, create a script that returns the string `'a,b,c,d,e,f,g,h,i'`"
   ]
  },
  {
   "cell_type": "code",
   "execution_count": 27,
   "id": "4fbe3a73",
   "metadata": {},
   "outputs": [],
   "source": [
    "line = 'a/ b/ c/ d/ e/ f/ g/ h/ i '"
   ]
  },
  {
   "cell_type": "code",
   "execution_count": 28,
   "id": "7888d422",
   "metadata": {},
   "outputs": [
    {
     "name": "stdout",
     "output_type": "stream",
     "text": [
      "a,b,c,d,e,f,g,h,i\n"
     ]
    }
   ],
   "source": [
    "# Type the code here:\n",
    "list_line = []\n",
    "\n",
    "for i in line.split('/'):\n",
    "    list_line.append(i.strip())\n",
    "    \n",
    "print(','.join(list_line))"
   ]
  },
  {
   "cell_type": "code",
   "execution_count": 29,
   "id": "5261867f",
   "metadata": {},
   "outputs": [
    {
     "data": {
      "text/plain": [
       "'a,b,c,d,e,f,g,h,i'"
      ]
     },
     "execution_count": 29,
     "metadata": {},
     "output_type": "execute_result"
    }
   ],
   "source": [
    "# Or even with a shorter code:\n",
    "\n",
    "line = ' a: b: c: d: e: f: g: h: i '\n",
    "\n",
    "','.join(x.strip() for x in line.split(':') )"
   ]
  },
  {
   "cell_type": "markdown",
   "id": "972fcbb4",
   "metadata": {},
   "source": [
    "## Multiples of 2 and 7\n",
    "\n",
    "Write an algorithm that prints all numbers up to 100 that are multiples of 2 and 7 in a list.\n",
    "\n",
    "*Solution: [14, 28, 42, 56, 70, 84, 98]*"
   ]
  },
  {
   "cell_type": "code",
   "execution_count": 6,
   "id": "2c03f0ec",
   "metadata": {},
   "outputs": [
    {
     "name": "stdout",
     "output_type": "stream",
     "text": [
      "[14, 28, 42, 56, 70, 84, 98]\n"
     ]
    }
   ],
   "source": [
    "# Type the code here:\n",
    "list_of_numbers = []\n",
    "\n",
    "for number in range(1,101):\n",
    "    if (number % 2 == 0) and (number % 7 == 0):\n",
    "        list_of_numbers.append(number)\n",
    "print(list_of_numbers)"
   ]
  },
  {
   "cell_type": "markdown",
   "id": "2526b234",
   "metadata": {},
   "source": [
    "##  Cleaning data\n",
    "\n",
    "Suppose you have the following company database, create an alorithm that cleans customer names of spaces and/or bad characters."
   ]
  },
  {
   "cell_type": "code",
   "execution_count": 30,
   "id": "4dbe2daf",
   "metadata": {},
   "outputs": [],
   "source": [
    "clients = [' González    ', '------Sandemetrio----', '////López     ', 'Rodríguez            .', '                 Bonachera', '; ; ; Urriaga ; ; ; ; ']"
   ]
  },
  {
   "cell_type": "code",
   "execution_count": 31,
   "id": "9814ba2a",
   "metadata": {},
   "outputs": [
    {
     "data": {
      "text/plain": [
       "['González', 'Sandemetrio', 'López', 'Rodríguez', 'Bonachera', 'Urriaga']"
      ]
     },
     "execution_count": 31,
     "metadata": {},
     "output_type": "execute_result"
    }
   ],
   "source": [
    "# Type the code here:\n",
    "clients_clean = []\n",
    "\n",
    "for client in clients:\n",
    "    clients_clean.append(client.strip(' ./-;'))\n",
    "\n",
    "clients_clean"
   ]
  },
  {
   "cell_type": "markdown",
   "id": "24fe6472",
   "metadata": {},
   "source": [
    "## Even numbers\n",
    "\n",
    "Consider the following list"
   ]
  },
  {
   "cell_type": "code",
   "execution_count": 32,
   "id": "3359df31",
   "metadata": {},
   "outputs": [],
   "source": [
    "list_full = [3,6,7,11,12,13,14,16,18,21,27,28,34,39,40,41,42,44,47,51,52,55,58,63,68,71,74,76,79]"
   ]
  },
  {
   "cell_type": "markdown",
   "id": "47209492",
   "metadata": {},
   "source": [
    "return a sublist of the previous list with only the even numbers. How many odd numbers does the list have? \n",
    "\n",
    "**Don't count them one by one please!!**\n",
    "\n",
    "*Solution: [6, 12, 14, 16, 18, 28, 34, 40, 42, 44, 52, 58, 68, 74, 76], we have 14 odd numbers and 15 even numbers*"
   ]
  },
  {
   "cell_type": "code",
   "execution_count": 33,
   "id": "c1c24ea9",
   "metadata": {},
   "outputs": [
    {
     "name": "stdout",
     "output_type": "stream",
     "text": [
      "The list of even numbers is [6, 12, 14, 16, 18, 28, 34, 40, 42, 44, 52, 58, 68, 74, 76]\n"
     ]
    }
   ],
   "source": [
    "# Type the code here:\n",
    "list_even = []\n",
    "\n",
    "for number in list_full:\n",
    "    if number % 2 == 0:\n",
    "        list_even.append(number)\n",
    "        \n",
    "print('The list of even numbers is', list_even)"
   ]
  },
  {
   "cell_type": "code",
   "execution_count": 34,
   "id": "ff1fd611",
   "metadata": {},
   "outputs": [
    {
     "name": "stdout",
     "output_type": "stream",
     "text": [
      "In our list with 29 numbers, we have 14 odd numbers and 15 even numbers.\n"
     ]
    }
   ],
   "source": [
    "print('In our list with {2} numbers, we have {0} odd numbers and {1} even numbers.'.format(\n",
    "    len(list_full)-len(list_even), len(list_even), len(list_full)))"
   ]
  },
  {
   "cell_type": "markdown",
   "id": "2d328a7c",
   "metadata": {},
   "source": [
    "## Dividers and lists\n",
    "The number 40677, is it divisible by 3? And divisible by 7? By what numbers less than 1500 is it divisible? Print those numbers in a decreasing list without using the `sort()` command (`mue_je_je`)\n",
    "\n",
    "*Solution: [1043, 447, 273, 149, 91, 39, 21, 13, 7, 3]*"
   ]
  },
  {
   "cell_type": "code",
   "execution_count": 35,
   "id": "05613b59",
   "metadata": {},
   "outputs": [],
   "source": [
    "# Type the code here:\n",
    "n = 40677"
   ]
  },
  {
   "cell_type": "code",
   "execution_count": 36,
   "id": "4c195ad7",
   "metadata": {},
   "outputs": [
    {
     "data": {
      "text/plain": [
       "13559.0"
      ]
     },
     "execution_count": 36,
     "metadata": {},
     "output_type": "execute_result"
    }
   ],
   "source": [
    "n / 3"
   ]
  },
  {
   "cell_type": "code",
   "execution_count": 37,
   "id": "7ab76d1a",
   "metadata": {},
   "outputs": [
    {
     "data": {
      "text/plain": [
       "0"
      ]
     },
     "execution_count": 37,
     "metadata": {},
     "output_type": "execute_result"
    }
   ],
   "source": [
    "n % 7"
   ]
  },
  {
   "cell_type": "code",
   "execution_count": 38,
   "id": "52a70fb0",
   "metadata": {},
   "outputs": [
    {
     "name": "stdout",
     "output_type": "stream",
     "text": [
      "The number 40677 can be divided by the numbers in the following list:\n",
      "[1043, 447, 273, 149, 91, 39, 21, 13, 7, 3]\n"
     ]
    }
   ],
   "source": [
    "divisors_list = []\n",
    "for i in range(2, 1500):\n",
    "    if n % i == 0:\n",
    "        divisors_list.append(i)\n",
    "\n",
    "divisors_list.reverse()\n",
    "print(f'The number {n} can be divided by the numbers in the following list:', divisors_list, sep = '\\n')"
   ]
  },
  {
   "cell_type": "markdown",
   "id": "cab5bc0f",
   "metadata": {},
   "source": [
    "## Countries\n",
    "\n",
    "Below you can find a list of countries. Answer the following questions:\n",
    "\n",
    "a. How many countries does the list have?\n",
    "\n",
    "**The following 3 items must be implemented in the same conditional statement, and hence in the same cell:**\n",
    "\n",
    "b. How many countries start with the letter 'J'? Print a string that says exactly `'The N countries that start with the letter 'J' are ..., ..., ...'`, replacing N with the number of countries and the three dots with the corresponding countries.\n",
    "\n",
    "c. How many end with the letter 'T'? Print this: `'The N countries that end with the letter 'T' are ..., ..., ... '`.\n",
    "\n",
    "d. Following the pattern above, now print those that contain the character sequence `'ng'`.\n",
    "\n",
    "e. Which country has more letters?\n",
    "\n",
    "f. And which less?\n",
    "\n",
    "**Hint (for the last two items):** I didn't mentioned before, but max() and min() has a key atribute. You can use it to compare the length of the strings!\n",
    "\n",
    "> Syntax: `max/min(iterable,key)`\n",
    ">\n",
    "> `iterable`: an iterable such as list, tuple, set, dictionary, etc.\n",
    ">\n",
    "> `key`: key function where the iterables are passed and comparison is performed based on its return value (optional)"
   ]
  },
  {
   "cell_type": "code",
   "execution_count": 10,
   "id": "4ab99763",
   "metadata": {},
   "outputs": [],
   "source": [
    "countries = [\"Afghanistan\", \"Albania\", \"Algeria\", \"Andorra\", \"Angola\", \"Antigua & Deps\", \"Argentina\", \"Armenia\", \"Australia\", \"Austria\", \"Azerbaijan\", \"Bahamas\", \"Bahrain\", \"Bangladesh\", \"Barbados\", \"Belarus\", \"Belgium\", \"Belize\", \"Benin\", \"Bhutan\", \"Bolivarian Republic of Venezuela\", \"Bolivia\", \"Bosnia Herzegovina\", \"Botswana\", \"Brazil\", \"Brunei\", \"Bulgaria\", \"Burkina\", \"Burundi\", \"Cambodia\", \"Cameroon\", \"Canada\", \"Cape Verde\", \"Chad\", \"Chile\", \"China\", \"Colombia\", \"Comoros\", \"Congo\", \"Costa Rica\", \"Croatia\", \"Cuba\", \"Cyprus\", \"Czech Republic\", \"Denmark\", \"Djibouti\", \"Dominica\", \"Dominican Republic\", \"East Timor\", \"Ecuador\", \"Egypt\", \"El Salvador\", \"Equatorial Guinea\", \"Eritrea\", \"Estonia\", \"Ethiopia\", \"Fiji\", \"Finland\", \"France\", \"Gabon\", \"Gambia\", \"Georgia\", \"Germany\", \"Ghana\", \"Greece\", \"Grenada\", \"Guatemala\", \"Guinea\", \"Guinea-Bissau\", \"Guyana\", \"Haiti\", \"Honduras\", \"Hungary\", \"Iceland\", \"India\", \"Indonesia\", \"Iran\", \"Iraq\", \"Ireland\", \"Israel\", \"Italy\", \"Ivory Coast\", \"Jamaica\", \"japan\", \"Jordan\", \"Kazakhstan\", \"Kenya\", \"Kiribati\", \"Korea North\", \"Korea South\", \"Uganda\", \"Uruguay\", \"Yemen\", \"Zimbabwe\"]"
   ]
  },
  {
   "cell_type": "code",
   "execution_count": 45,
   "id": "7fb0981b",
   "metadata": {},
   "outputs": [
    {
     "data": {
      "text/plain": [
       "94"
      ]
     },
     "execution_count": 45,
     "metadata": {},
     "output_type": "execute_result"
    }
   ],
   "source": [
    "# Type the code here:\n",
    "len(countries)"
   ]
  },
  {
   "cell_type": "code",
   "execution_count": 52,
   "id": "8a5b351c",
   "metadata": {},
   "outputs": [
    {
     "name": "stdout",
     "output_type": "stream",
     "text": [
      "Angola Angola,  1\n",
      "Bangladesh Angola, Bangladesh,  2\n",
      "Congo Angola, Bangladesh, Congo,  3\n",
      "Egypt Egypt,  1\n",
      "Hungary Angola, Bangladesh, Congo, Hungary,  4\n",
      "Ivory Coast Egypt, Ivory Coast,  2\n",
      "Jamaica Jamaica,  1\n",
      "japan Jamaica, japan,  2\n",
      "Jordan Jamaica, japan, Jordan,  3\n",
      "\n",
      "The 3 countries that start with the letter 'J' are Jamaica, japan, Jordan \n",
      "\n",
      "The 2 countries that end with the letter 'T' are Egypt, Ivory Coast \n",
      "\n",
      "The 4 countries that contain the character sequence 'NG' are Angola, Bangladesh, Congo, Hungary\n"
     ]
    }
   ],
   "source": [
    "start_with = ''\n",
    "ends_with = ''\n",
    "sequence_ng = ''\n",
    "\n",
    "count_start = 0\n",
    "count_end = 0\n",
    "count_ng = 0\n",
    "\n",
    "for c in countries:\n",
    "    if c[0].capitalize() == 'J':\n",
    "        start_with += c + ', '\n",
    "        count_start += 1\n",
    "#        print(c, start_with,count_start)\n",
    "        \n",
    "    if c[-1] == 't':\n",
    "        ends_with += c + ', '\n",
    "        count_end += 1\n",
    "#        print(c, ends_with,count_end)\n",
    "\n",
    "\n",
    "    if \"ng\" in c:\n",
    "        sequence_ng += c + ', '\n",
    "        count_ng += 1\n",
    "#        print(c,sequence_ng,count_ng)\n",
    "\n",
    "print()\n",
    "print(f'The {count_start} countries that start with the letter \\'J\\' are', start_with.rstrip(\", \"),\n",
    "     f'\\n\\nThe {count_end} countries that end with the letter \\'T\\' are', ends_with.rstrip(\", \"),\n",
    "     f'\\n\\nThe {count_ng} countries that contain the character sequence \\'NG\\' are', sequence_ng.rstrip(\", \"))"
   ]
  },
  {
   "cell_type": "code",
   "execution_count": 53,
   "id": "69bf01b4",
   "metadata": {},
   "outputs": [
    {
     "data": {
      "text/plain": [
       "'Bolivarian Republic of Venezuela'"
      ]
     },
     "execution_count": 53,
     "metadata": {},
     "output_type": "execute_result"
    }
   ],
   "source": [
    "max(countries, key=len)"
   ]
  },
  {
   "cell_type": "code",
   "execution_count": 54,
   "id": "e3526721",
   "metadata": {},
   "outputs": [
    {
     "data": {
      "text/plain": [
       "'Chad'"
      ]
     },
     "execution_count": 54,
     "metadata": {},
     "output_type": "execute_result"
    }
   ],
   "source": [
    "min(countries, key=len)"
   ]
  },
  {
   "cell_type": "markdown",
   "id": "b9a9ae84",
   "metadata": {},
   "source": [
    "## List of lists\n",
    "\n",
    "Write a program that allows you to create a list with an arbitrary number of different lists inside, with different numbers of strings as elements. The steps are the following:\n",
    "\n",
    "a. The algorithm must first ask how many lists will be entered in total. This number must be entered as input by the user.\n",
    "\n",
    "b. Take into account the possibility that the user can enter a number that is not allowed (zero or negative numbers). In this case, print a warning message and ask again for a correct number.\n",
    "\n",
    "c. Next, ask for the words to complete all the lists. Lists must have the following structure: \n",
    "- the first list entered must contain one word, \n",
    "- the second list two words, \n",
    "- and so on. \n",
    "- The last list, say number N, must contain N words.\n",
    "\n",
    "d. As output, this algorithm should print a single list containing all inputted lists.\n",
    "\n",
    "Good luck :)"
   ]
  },
  {
   "cell_type": "code",
   "execution_count": 63,
   "id": "7cef7cc9",
   "metadata": {},
   "outputs": [
    {
     "name": "stdout",
     "output_type": "stream",
     "text": [
      "Enter the total number of lists (a positive integer, please): 3\n",
      "\n",
      "List 1\n",
      "Enter word 1 of the list 1: Hello\n",
      "\n",
      "List 2\n",
      "Enter word 1 of the list 2: All\n",
      "Enter word 2 of the list 2: good?\n",
      "\n",
      "List 3\n",
      "Enter word 1 of the list 3: How\n",
      "Enter word 2 of the list 3: are\n",
      "Enter word 3 of the list 3: you?\n",
      "\n",
      "The ONE list is [['Hello'], ['All', 'good?'], ['How', 'are', 'you?']]\n"
     ]
    }
   ],
   "source": [
    "# Type the code here:\n",
    "number_of_lists = int(input('Enter the total number of lists (a positive integer, please): '))\n",
    "\n",
    "while number_of_lists < 1:\n",
    "    print('Warning! It is not a valid number to start creating lists.')\n",
    "    number_of_lists = int(input('Enter a correct number of total lists: '))\n",
    "\n",
    "else:\n",
    "    list_of_lists = []\n",
    "    \n",
    "    for i in range(number_of_lists):\n",
    "        print(f'\\nList {i+1}')\n",
    "        sublist = []\n",
    "        \n",
    "        for iteration in range(i+1):\n",
    "            element = input(f'Enter word {iteration+1} of the list {i+1}: ')\n",
    "            \n",
    "            sublist.append(element)\n",
    "            #print(sublist)\n",
    "            \n",
    "        list_of_lists.append(sublist)\n",
    "    print('\\nThe ONE list is', list_of_lists)"
   ]
  },
  {
   "cell_type": "markdown",
   "id": "4e2fb90f",
   "metadata": {},
   "source": [
    "## Apps meassuring daily steps\n",
    "\n",
    "In a far far away future, we maintain comunication with a planet in the Aldente Nebula in the Andromeda Galaxy called Melmac. As a cooperation with that short-legs civilization, the ministry of Data Science on Earth is carrying a study on the steps taken by these lazy Melmacians per day on average. A statistical model representing a sample of 100 people arrives to Earth.\n",
    "\n",
    "This model is built by a short code of two lines given below; you just have to execute the corresponding cell. The output of the model is a representative list of 100 Melmacians, in which the values of each element of that list are the steps taken by each Melmacian in one day.\n",
    "\n",
    "You do not have to understand what the code is producing or the structure of the model. We will come back to NumPy library in a near future, however you can search if you want (not mandatory) what is this library for and in which context is useful.\n",
    "\n",
    "<br>\n",
    "\n",
    "<img style=\"float: center;\" width=300 src=\"https://media.giphy.com/media/xT5LMWCDRdsEuzvTQk/giphy.gif\">\n",
    "\n",
    "<br>\n",
    "\n",
    "Melmatians expect to recieve back a sumarized information with:\n",
    "\n",
    "- The mean steps given by the 100 population,\n",
    "\n",
    "- In which position of the list is located the person that gives more steps, \n",
    "\n",
    "- and the one that gives less. \n",
    "\n",
    "Besides, a characterization of tha sample is required: \n",
    "\n",
    "- how many people are above the mean, \n",
    "\n",
    "- and how many under. \n",
    "\n",
    "- Also compute the median and discuss with your collegues, trying several samples (i.e. running the code over and over again; random functions take random values, so they will change ever time you run the cell that defines `martian_steps = the_model`), what is the difference between the mean and the median.\n",
    "\n",
    "code over and over again; random functions take random values, so they will change each time you run the cell that defines `martian_steps = the_model`), what is the difference between the mean and the median.\n",
    "\n",
    "**HINT! Procedure for the median:** as for everything, you can implement code to compute the median, but let us take a more direct path.\n",
    "- First, run the following library `import statistics`\n",
    "- and then, ask for the madian with something like `statistics.median(your_list)`.\n",
    "- Now that you know the answer, how would you calculate the median without using libraries? That is to say with mathematics 🤔"
   ]
  },
  {
   "cell_type": "code",
   "execution_count": 69,
   "id": "649dffe9",
   "metadata": {},
   "outputs": [],
   "source": [
    "import numpy as np\n",
    "melmacian_steps = np.exp([np.random.normal(7,1,100)]).astype(int).tolist()[0]"
   ]
  },
  {
   "cell_type": "code",
   "execution_count": 70,
   "id": "7f5cf96a",
   "metadata": {},
   "outputs": [
    {
     "name": "stdout",
     "output_type": "stream",
     "text": [
      "Mean: 1676.36\n",
      "Minimum: 121, located in position number 37 of the list \n",
      "Maximun: 11552, located in position number 35 of the list\n"
     ]
    }
   ],
   "source": [
    "# Type the code here:\n",
    "melmacian_steps_mean = sum(melmacian_steps)/len(melmacian_steps)\n",
    "melmacian_steps_min = min(melmacian_steps)\n",
    "melmacian_steps_max = max(melmacian_steps)\n",
    "\n",
    "print(f'Mean: {melmacian_steps_mean}\\nMinimum: {melmacian_steps_min}, located in position number {melmacian_steps.index(melmacian_steps_min)} of the list \\nMaximun: {melmacian_steps_max}, located in position number {melmacian_steps.index(melmacian_steps_max)} of the list')"
   ]
  },
  {
   "cell_type": "code",
   "execution_count": 71,
   "id": "b8aadc04",
   "metadata": {},
   "outputs": [
    {
     "name": "stdout",
     "output_type": "stream",
     "text": [
      "29 melmatians walk more than the average, 71 less, and 0 exactly the average\n"
     ]
    }
   ],
   "source": [
    "above = 0\n",
    "below = 0\n",
    "equal = 0\n",
    "\n",
    "for i in melmacian_steps:\n",
    "#    print(i)\n",
    "    if i > melmacian_steps_mean:\n",
    "        above += 1\n",
    "    elif i < melmacian_steps_mean:\n",
    "        below += 1\n",
    "    else:\n",
    "        equal += 1\n",
    "\n",
    "print(f'{above} melmatians walk more than the average, {below} less, and {equal} exactly the average')"
   ]
  },
  {
   "cell_type": "code",
   "execution_count": 72,
   "id": "7aad0c11",
   "metadata": {},
   "outputs": [
    {
     "name": "stdout",
     "output_type": "stream",
     "text": [
      "1028.5\n"
     ]
    }
   ],
   "source": [
    "import statistics\n",
    "print(statistics.median(melmacian_steps))"
   ]
  },
  {
   "cell_type": "markdown",
   "id": "c2f9b08c",
   "metadata": {},
   "source": [
    "Some usefull information for the discussion:\n",
    "\n",
    "What is a Gaussian/normal distribution? \n",
    "How do you expect the mean and median to behave relative to each other?"
   ]
  },
  {
   "cell_type": "markdown",
   "id": "d3c9d34f",
   "metadata": {},
   "source": [
    "## Numbers, numbers and numbers..."
   ]
  },
  {
   "cell_type": "markdown",
   "id": "2746c52c",
   "metadata": {},
   "source": [
    "$-$ Let us play with sets :)\n",
    "\n",
    "$-$ But we didn't see that topic in the webinar!!!\n",
    "\n",
    "$-$ I know 😬\n",
    "\n",
    "Take advantage of the utilities of sets:\n",
    "\n",
    "a. First run the first cell for creating a list of random numbers called `number_list`. Make sure you understand how the code works!\n",
    "\n",
    "b. Turn the list into a set. \n",
    "\n",
    "c. Comparing both objects (the original list and the set), answer the following questions (they only require a very little code and a smart use of sets).      \n",
    "\n",
    "- Are there repeated numbers?\n",
    "- How many?\n",
    "- What is the largest number?\n",
    "- and the smallest?\n",
    "- How could you sort the non-repeating numbers in descending order in a new list without using the methods used or mentioned in Exercise 6?\n",
    "- Add a number at the beginig of the new list, so that if we add all the elements the result is 2000.\n",
    "- Remove all multiples of 3 from the list (without using auxiliary lists −different from exercice 5−; be careful what happens to indexing when you delete values).\n",
    "- Eliminate the element in the middle of our list, or if there are even elements, eliminate both central elements. Remember that the list is arbitratily created, so this must work every time the code is run, so the programm must know how to decide the procedure for removing the central element(s).\n",
    "- Finally, divide the list into two halves. The first half must have all the elements that were before the element(s) removed in the previous item; and a second half with the elements that were after the deleted element(s).\n",
    "\n",
    "**Tip:** Do you need a hand? [Sets in Python](https://realpython.com/python-sets/).\n",
    "\n",
    "**Hint:** In some cases it is useful to create a copy of the list so that you do not have to go back to the beginning of the code when it is wrongly transformed.\n",
    "\n",
    "**Warning:** Python uses zero-based indexing. Be careful when removing elements."
   ]
  },
  {
   "cell_type": "code",
   "execution_count": 265,
   "id": "3551443d",
   "metadata": {},
   "outputs": [],
   "source": [
    "# An alternative to append:\n",
    "import random\n",
    "\n",
    "N = 50\n",
    "number_list = [0]  * N\n",
    "for i in range(N):\n",
    "    number_list[i] = random.randrange(100)"
   ]
  },
  {
   "cell_type": "code",
   "execution_count": 266,
   "id": "9bc44c14",
   "metadata": {},
   "outputs": [
    {
     "name": "stdout",
     "output_type": "stream",
     "text": [
      "50 [30, 53, 74, 66, 33, 72, 40, 96, 41, 56, 49, 22, 55, 65, 33, 44, 95, 5, 24, 7, 97, 23, 16, 96, 30, 97, 52, 76, 85, 76, 43, 11, 81, 12, 71, 94, 12, 43, 50, 18, 46, 26, 78, 53, 51, 4, 60, 30, 25, 28]\n"
     ]
    }
   ],
   "source": [
    "# Type the code here:\n",
    "print(len(number_list),number_list)"
   ]
  },
  {
   "cell_type": "code",
   "execution_count": 267,
   "id": "3246ed00",
   "metadata": {},
   "outputs": [
    {
     "name": "stdout",
     "output_type": "stream",
     "text": [
      "From the list of 50 numbers, only 41 are different. \n",
      "Do we know them? No. \n",
      "Do we need to know them? Either. \n",
      "The smallest number is 4 and the largest, 97\n"
     ]
    }
   ],
   "source": [
    "number_set = set(number_list)\n",
    "print(f'''From the list of {len(number_list)} numbers, only {len(number_set)} are different. \n",
    "Do we know them? No. \n",
    "Do we need to know them? Either. \n",
    "The smallest number is {min(number_set)} and the largest, {max(number_set)}''')"
   ]
  },
  {
   "cell_type": "code",
   "execution_count": 268,
   "id": "4615c364",
   "metadata": {},
   "outputs": [
    {
     "name": "stdout",
     "output_type": "stream",
     "text": [
      "41 [97, 96, 95, 94, 85, 81, 78, 76, 74, 72, 71, 66, 65, 60, 56, 55, 53, 52, 51, 50, 49, 46, 44, 43, 41, 40, 33, 30, 28, 26, 25, 24, 23, 22, 18, 16, 12, 11, 7, 5, 4]\n"
     ]
    }
   ],
   "source": [
    "# Instead of .reverse() o .sort(reverse=True) look at the following sintax! \n",
    "number_list_desc = list(number_set)[::-1]\n",
    "print(len(number_list_desc),number_list_desc)"
   ]
  },
  {
   "cell_type": "code",
   "execution_count": 269,
   "id": "1860caa9",
   "metadata": {},
   "outputs": [
    {
     "data": {
      "text/plain": [
       "1974"
      ]
     },
     "execution_count": 269,
     "metadata": {},
     "output_type": "execute_result"
    }
   ],
   "source": [
    "sum(number_list_desc)"
   ]
  },
  {
   "cell_type": "code",
   "execution_count": 270,
   "id": "23f1ccf4",
   "metadata": {},
   "outputs": [],
   "source": [
    "number_list_desc.insert(0, 2000-sum(number_list_desc))"
   ]
  },
  {
   "cell_type": "code",
   "execution_count": 271,
   "id": "f4f12900",
   "metadata": {},
   "outputs": [
    {
     "name": "stdout",
     "output_type": "stream",
     "text": [
      "42 [26, 97, 96, 95, 94, 85, 81, 78, 76, 74, 72, 71, 66, 65, 60, 56, 55, 53, 52, 51, 50, 49, 46, 44, 43, 41, 40, 33, 30, 28, 26, 25, 24, 23, 22, 18, 16, 12, 11, 7, 5, 4]\n"
     ]
    }
   ],
   "source": [
    "print(len(number_list_desc), number_list_desc)"
   ]
  },
  {
   "cell_type": "code",
   "execution_count": 272,
   "id": "c9698724",
   "metadata": {},
   "outputs": [
    {
     "name": "stdout",
     "output_type": "stream",
     "text": [
      "30 [26, 97, 95, 94, 85, 76, 74, 71, 65, 56, 55, 53, 52, 50, 49, 46, 44, 43, 41, 40, 28, 26, 25, 23, 22, 16, 11, 7, 5, 4]\n"
     ]
    }
   ],
   "source": [
    "# If you loop the list in the default direction, removing one item delays all remaining indices by one unit. \n",
    "# This way, the value that follows the removed value is moved back one index and,\n",
    "# in the next iteration of the for, it will not be parsed.\n",
    "for value in reversed(number_list_desc):\n",
    "    if value % 3 == 0:\n",
    "        number_list_desc.remove(value)\n",
    "\n",
    "print(len(number_list_desc),number_list_desc)"
   ]
  },
  {
   "cell_type": "code",
   "execution_count": 273,
   "id": "2543d8a4",
   "metadata": {},
   "outputs": [],
   "source": [
    "# Check: there are no multples of 3 left. If True, no output!\n",
    "for value in number_list_desc:\n",
    "    if value % 3 == 0:\n",
    "        print(value)"
   ]
  },
  {
   "cell_type": "code",
   "execution_count": 275,
   "id": "0dbea8a5",
   "metadata": {},
   "outputs": [
    {
     "name": "stdout",
     "output_type": "stream",
     "text": [
      "Even case. Length: 30 . Two central values: 49 46\n"
     ]
    }
   ],
   "source": [
    "# Let us make a copy of a list\n",
    "number_list_copy = number_list_desc.copy()\n",
    "if len(number_list_copy) % 2 != 0:\n",
    "    print('Odd case. Length:', len(number_list_copy), '. Central value:', number_list_copy[len(number_list_copy)//2])\n",
    "\n",
    "else:\n",
    "    print('Even case. Length:', len(number_list_copy), '. Two central values:', \n",
    "          number_list_copy[len(number_list_copy)//2-1], number_list_copy[len(number_list_copy)//2])"
   ]
  },
  {
   "cell_type": "code",
   "execution_count": 276,
   "id": "ee1aba47",
   "metadata": {},
   "outputs": [
    {
     "name": "stdout",
     "output_type": "stream",
     "text": [
      "28 [26, 97, 95, 94, 85, 76, 74, 71, 65, 56, 55, 53, 52, 50, 44, 43, 41, 40, 28, 26, 25, 23, 22, 16, 11, 7, 5, 4]\n"
     ]
    }
   ],
   "source": [
    "supr_elem = len(number_list_copy)//2\n",
    "\n",
    "# Even case: remove to central values:\n",
    "if len(number_list_copy) % 2 == 0:\n",
    "    \n",
    "    number_list_copy.pop(supr_elem-1)\n",
    "    number_list_copy.pop(supr_elem-1)\n",
    "    \n",
    "# Odd case: remove the central value:\n",
    "else:\n",
    "    number_list_copy.pop(supr_elem)\n",
    "    \n",
    "print(len(number_list_copy), number_list_copy)"
   ]
  },
  {
   "cell_type": "code",
   "execution_count": 277,
   "id": "a3e17926",
   "metadata": {},
   "outputs": [
    {
     "name": "stdout",
     "output_type": "stream",
     "text": [
      "[26, 97, 95, 94, 85, 76, 74, 71, 65, 56, 55, 53, 52, 50] [44, 43, 41, 40, 28, 26, 25, 23, 22, 16, 11, 7, 5, 4]\n"
     ]
    }
   ],
   "source": [
    "number_list_unique_first_half = number_list_copy[:len(number_list_copy)//2]\n",
    "number_list_unique_second_half = number_list_copy[len(number_list_copy)//2:]\n",
    "\n",
    "print(number_list_unique_first_half,number_list_unique_second_half)"
   ]
  },
  {
   "cell_type": "code",
   "execution_count": 264,
   "id": "0bebd6bc",
   "metadata": {},
   "outputs": [
    {
     "data": {
      "text/plain": [
       "True"
      ]
     },
     "execution_count": 264,
     "metadata": {},
     "output_type": "execute_result"
    }
   ],
   "source": [
    "len(number_list_unique_second_half) == len(number_list_unique_first_half)"
   ]
  },
  {
   "cell_type": "markdown",
   "id": "b5ff9098",
   "metadata": {},
   "source": [
    "# Theoretical questions:"
   ]
  },
  {
   "cell_type": "markdown",
   "id": "25b3a6ba",
   "metadata": {},
   "source": [
    "## What is the difference between `extend` and `append`? And with `insert`?"
   ]
  },
  {
   "cell_type": "markdown",
   "id": "b85c8ce8",
   "metadata": {},
   "source": [
    "## What is the difference between the `del()`, `remove` and `pop` commands? "
   ]
  },
  {
   "cell_type": "markdown",
   "id": "6f35d01b",
   "metadata": {},
   "source": [
    "## What does the `sort` command do? What are its arguments?"
   ]
  },
  {
   "cell_type": "markdown",
   "id": "355b0260",
   "metadata": {},
   "source": [
    "## What is the difference between lists and tuples?"
   ]
  }
 ],
 "metadata": {
  "kernelspec": {
   "display_name": "Python 3 (ipykernel)",
   "language": "python",
   "name": "python3"
  },
  "language_info": {
   "codemirror_mode": {
    "name": "ipython",
    "version": 3
   },
   "file_extension": ".py",
   "mimetype": "text/x-python",
   "name": "python",
   "nbconvert_exporter": "python",
   "pygments_lexer": "ipython3",
   "version": "3.9.12"
  },
  "toc": {
   "base_numbering": 1,
   "nav_menu": {},
   "number_sections": true,
   "sideBar": true,
   "skip_h1_title": true,
   "title_cell": "Table of Contents",
   "title_sidebar": "Contents",
   "toc_cell": false,
   "toc_position": {
    "height": "calc(100% - 180px)",
    "left": "10px",
    "top": "150px",
    "width": "274.841px"
   },
   "toc_section_display": true,
   "toc_window_display": true
  }
 },
 "nbformat": 4,
 "nbformat_minor": 5
}
